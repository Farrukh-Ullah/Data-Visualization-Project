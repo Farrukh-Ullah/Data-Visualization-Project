{
 "cells": [
  {
   "cell_type": "markdown",
   "metadata": {},
   "source": [
    "# Improt Libraries"
   ]
  },
  {
   "cell_type": "code",
   "execution_count": 183,
   "metadata": {},
   "outputs": [],
   "source": [
    "# Import Libraries\n",
    "import pandas as pd\n",
    "import numpy as np\n",
    "\n",
    "import seaborn as sns\n",
    "import matplotlib.pyplot as plt"
   ]
  },
  {
   "cell_type": "markdown",
   "metadata": {},
   "source": [
    "# Read Data"
   ]
  },
  {
   "cell_type": "code",
   "execution_count": 184,
   "metadata": {},
   "outputs": [],
   "source": [
    "# Read Data\n",
    "df = pd.read_csv('assets/heart.csv')"
   ]
  },
  {
   "cell_type": "code",
   "execution_count": 185,
   "metadata": {},
   "outputs": [
    {
     "data": {
      "text/html": [
       "<div>\n",
       "<style scoped>\n",
       "    .dataframe tbody tr th:only-of-type {\n",
       "        vertical-align: middle;\n",
       "    }\n",
       "\n",
       "    .dataframe tbody tr th {\n",
       "        vertical-align: top;\n",
       "    }\n",
       "\n",
       "    .dataframe thead th {\n",
       "        text-align: right;\n",
       "    }\n",
       "</style>\n",
       "<table border=\"1\" class=\"dataframe\">\n",
       "  <thead>\n",
       "    <tr style=\"text-align: right;\">\n",
       "      <th></th>\n",
       "      <th>Age</th>\n",
       "      <th>Sex</th>\n",
       "      <th>ChestPainType</th>\n",
       "      <th>RestingBP</th>\n",
       "      <th>Cholesterol</th>\n",
       "      <th>FastingBS</th>\n",
       "      <th>RestingECG</th>\n",
       "      <th>MaxHR</th>\n",
       "      <th>ExerciseAngina</th>\n",
       "      <th>Oldpeak</th>\n",
       "      <th>ST_Slope</th>\n",
       "      <th>HeartDisease</th>\n",
       "    </tr>\n",
       "  </thead>\n",
       "  <tbody>\n",
       "    <tr>\n",
       "      <th>0</th>\n",
       "      <td>40</td>\n",
       "      <td>M</td>\n",
       "      <td>ATA</td>\n",
       "      <td>140</td>\n",
       "      <td>289</td>\n",
       "      <td>0</td>\n",
       "      <td>Normal</td>\n",
       "      <td>172</td>\n",
       "      <td>N</td>\n",
       "      <td>0.0</td>\n",
       "      <td>Up</td>\n",
       "      <td>0</td>\n",
       "    </tr>\n",
       "    <tr>\n",
       "      <th>1</th>\n",
       "      <td>49</td>\n",
       "      <td>F</td>\n",
       "      <td>NAP</td>\n",
       "      <td>160</td>\n",
       "      <td>180</td>\n",
       "      <td>0</td>\n",
       "      <td>Normal</td>\n",
       "      <td>156</td>\n",
       "      <td>N</td>\n",
       "      <td>1.0</td>\n",
       "      <td>Flat</td>\n",
       "      <td>1</td>\n",
       "    </tr>\n",
       "    <tr>\n",
       "      <th>2</th>\n",
       "      <td>37</td>\n",
       "      <td>M</td>\n",
       "      <td>ATA</td>\n",
       "      <td>130</td>\n",
       "      <td>283</td>\n",
       "      <td>0</td>\n",
       "      <td>ST</td>\n",
       "      <td>98</td>\n",
       "      <td>N</td>\n",
       "      <td>0.0</td>\n",
       "      <td>Up</td>\n",
       "      <td>0</td>\n",
       "    </tr>\n",
       "    <tr>\n",
       "      <th>3</th>\n",
       "      <td>48</td>\n",
       "      <td>F</td>\n",
       "      <td>ASY</td>\n",
       "      <td>138</td>\n",
       "      <td>214</td>\n",
       "      <td>0</td>\n",
       "      <td>Normal</td>\n",
       "      <td>108</td>\n",
       "      <td>Y</td>\n",
       "      <td>1.5</td>\n",
       "      <td>Flat</td>\n",
       "      <td>1</td>\n",
       "    </tr>\n",
       "    <tr>\n",
       "      <th>4</th>\n",
       "      <td>54</td>\n",
       "      <td>M</td>\n",
       "      <td>NAP</td>\n",
       "      <td>150</td>\n",
       "      <td>195</td>\n",
       "      <td>0</td>\n",
       "      <td>Normal</td>\n",
       "      <td>122</td>\n",
       "      <td>N</td>\n",
       "      <td>0.0</td>\n",
       "      <td>Up</td>\n",
       "      <td>0</td>\n",
       "    </tr>\n",
       "  </tbody>\n",
       "</table>\n",
       "</div>"
      ],
      "text/plain": [
       "   Age Sex ChestPainType  RestingBP  Cholesterol  FastingBS RestingECG  MaxHR  \\\n",
       "0   40   M           ATA        140          289          0     Normal    172   \n",
       "1   49   F           NAP        160          180          0     Normal    156   \n",
       "2   37   M           ATA        130          283          0         ST     98   \n",
       "3   48   F           ASY        138          214          0     Normal    108   \n",
       "4   54   M           NAP        150          195          0     Normal    122   \n",
       "\n",
       "  ExerciseAngina  Oldpeak ST_Slope  HeartDisease  \n",
       "0              N      0.0       Up             0  \n",
       "1              N      1.0     Flat             1  \n",
       "2              N      0.0       Up             0  \n",
       "3              Y      1.5     Flat             1  \n",
       "4              N      0.0       Up             0  "
      ]
     },
     "execution_count": 185,
     "metadata": {},
     "output_type": "execute_result"
    }
   ],
   "source": [
    "df.head()"
   ]
  },
  {
   "cell_type": "code",
   "execution_count": 186,
   "metadata": {},
   "outputs": [],
   "source": [
    "# Decode Label Colum for better Understanding"
   ]
  },
  {
   "cell_type": "code",
   "execution_count": 187,
   "metadata": {},
   "outputs": [],
   "source": [
    "label_dict = {1: 'Heart Disease', 0: 'Normal'}\n",
    "df['HeartDisease'] = df['HeartDisease'].map(label_dict)"
   ]
  },
  {
   "cell_type": "code",
   "execution_count": 188,
   "metadata": {},
   "outputs": [
    {
     "data": {
      "text/html": [
       "<div>\n",
       "<style scoped>\n",
       "    .dataframe tbody tr th:only-of-type {\n",
       "        vertical-align: middle;\n",
       "    }\n",
       "\n",
       "    .dataframe tbody tr th {\n",
       "        vertical-align: top;\n",
       "    }\n",
       "\n",
       "    .dataframe thead th {\n",
       "        text-align: right;\n",
       "    }\n",
       "</style>\n",
       "<table border=\"1\" class=\"dataframe\">\n",
       "  <thead>\n",
       "    <tr style=\"text-align: right;\">\n",
       "      <th></th>\n",
       "      <th>Age</th>\n",
       "      <th>Sex</th>\n",
       "      <th>ChestPainType</th>\n",
       "      <th>RestingBP</th>\n",
       "      <th>Cholesterol</th>\n",
       "      <th>FastingBS</th>\n",
       "      <th>RestingECG</th>\n",
       "      <th>MaxHR</th>\n",
       "      <th>ExerciseAngina</th>\n",
       "      <th>Oldpeak</th>\n",
       "      <th>ST_Slope</th>\n",
       "      <th>HeartDisease</th>\n",
       "    </tr>\n",
       "  </thead>\n",
       "  <tbody>\n",
       "    <tr>\n",
       "      <th>0</th>\n",
       "      <td>40</td>\n",
       "      <td>M</td>\n",
       "      <td>ATA</td>\n",
       "      <td>140</td>\n",
       "      <td>289</td>\n",
       "      <td>0</td>\n",
       "      <td>Normal</td>\n",
       "      <td>172</td>\n",
       "      <td>N</td>\n",
       "      <td>0.0</td>\n",
       "      <td>Up</td>\n",
       "      <td>Normal</td>\n",
       "    </tr>\n",
       "    <tr>\n",
       "      <th>1</th>\n",
       "      <td>49</td>\n",
       "      <td>F</td>\n",
       "      <td>NAP</td>\n",
       "      <td>160</td>\n",
       "      <td>180</td>\n",
       "      <td>0</td>\n",
       "      <td>Normal</td>\n",
       "      <td>156</td>\n",
       "      <td>N</td>\n",
       "      <td>1.0</td>\n",
       "      <td>Flat</td>\n",
       "      <td>Heart Disease</td>\n",
       "    </tr>\n",
       "    <tr>\n",
       "      <th>2</th>\n",
       "      <td>37</td>\n",
       "      <td>M</td>\n",
       "      <td>ATA</td>\n",
       "      <td>130</td>\n",
       "      <td>283</td>\n",
       "      <td>0</td>\n",
       "      <td>ST</td>\n",
       "      <td>98</td>\n",
       "      <td>N</td>\n",
       "      <td>0.0</td>\n",
       "      <td>Up</td>\n",
       "      <td>Normal</td>\n",
       "    </tr>\n",
       "    <tr>\n",
       "      <th>3</th>\n",
       "      <td>48</td>\n",
       "      <td>F</td>\n",
       "      <td>ASY</td>\n",
       "      <td>138</td>\n",
       "      <td>214</td>\n",
       "      <td>0</td>\n",
       "      <td>Normal</td>\n",
       "      <td>108</td>\n",
       "      <td>Y</td>\n",
       "      <td>1.5</td>\n",
       "      <td>Flat</td>\n",
       "      <td>Heart Disease</td>\n",
       "    </tr>\n",
       "    <tr>\n",
       "      <th>4</th>\n",
       "      <td>54</td>\n",
       "      <td>M</td>\n",
       "      <td>NAP</td>\n",
       "      <td>150</td>\n",
       "      <td>195</td>\n",
       "      <td>0</td>\n",
       "      <td>Normal</td>\n",
       "      <td>122</td>\n",
       "      <td>N</td>\n",
       "      <td>0.0</td>\n",
       "      <td>Up</td>\n",
       "      <td>Normal</td>\n",
       "    </tr>\n",
       "  </tbody>\n",
       "</table>\n",
       "</div>"
      ],
      "text/plain": [
       "   Age Sex ChestPainType  RestingBP  Cholesterol  FastingBS RestingECG  MaxHR  \\\n",
       "0   40   M           ATA        140          289          0     Normal    172   \n",
       "1   49   F           NAP        160          180          0     Normal    156   \n",
       "2   37   M           ATA        130          283          0         ST     98   \n",
       "3   48   F           ASY        138          214          0     Normal    108   \n",
       "4   54   M           NAP        150          195          0     Normal    122   \n",
       "\n",
       "  ExerciseAngina  Oldpeak ST_Slope   HeartDisease  \n",
       "0              N      0.0       Up         Normal  \n",
       "1              N      1.0     Flat  Heart Disease  \n",
       "2              N      0.0       Up         Normal  \n",
       "3              Y      1.5     Flat  Heart Disease  \n",
       "4              N      0.0       Up         Normal  "
      ]
     },
     "execution_count": 188,
     "metadata": {},
     "output_type": "execute_result"
    }
   ],
   "source": [
    "df.head()"
   ]
  },
  {
   "cell_type": "markdown",
   "metadata": {},
   "source": [
    "##### What is the shape of thed data ?"
   ]
  },
  {
   "cell_type": "code",
   "execution_count": 189,
   "metadata": {},
   "outputs": [
    {
     "data": {
      "text/plain": [
       "(918, 12)"
      ]
     },
     "execution_count": 189,
     "metadata": {},
     "output_type": "execute_result"
    }
   ],
   "source": [
    "df.shape"
   ]
  },
  {
   "cell_type": "markdown",
   "metadata": {},
   "source": [
    "There are <b>12 features</b> and <b>918 records</b> in the dataset."
   ]
  },
  {
   "cell_type": "markdown",
   "metadata": {},
   "source": [
    "# Features Description\n",
    "\n",
    "\n",
    "| Feature Name | Description | Values |\n",
    "| :- | -: | :-: |\n",
    "| Age | Age of the Patient | [years]\n",
    "| Sex | Sex of the Patient | [M: Male, F: Female]\n",
    "| ChestPainType |  Chest Pain Type | [TA: Typical Angina, ATA: Atypical Angina, NAP: Non-Anginal Pain, ASY: Asymptomatic]\n",
    "| RestingBP | Resting Blood Pressure |[mm Hg]\n",
    "| Cholesterol | Serum Cholesterol  |  [mm/dl]\n",
    "| FastingBS | Fasting Blood Sugar | [1: if FastingBS > 120 mg/dl, 0: otherwise]\n",
    "| RestingECG | Resting Electrocardiogram Results  | [Normal: Normal, ST: having ST-T wave abnormality (T wave inversions and/or ST elevation or depression of > 0.05 mV), LVH: showing probable or definite left ventricular hypertrophy by Estes' criteria]\n",
    "| MaxHR |  Maximum Heart Rate Achieved | [Numeric value between 60 and 202]\n",
    "| ExerciseAngina | Exercise-Induced Angina | [Y: Yes, N: No]\n",
    "| Oldpeak | Oldpeak = ST  | [Numeric value measured in depression]\n",
    "| ST_Slope | The Slope of the Peak Exercise ST Segment | [Up: upsloping, Flat: flat, Down: downsloping]\n",
    "| HeartDisease |  Output Class | [1: heart disease, 0: Normal]\n"
   ]
  },
  {
   "cell_type": "markdown",
   "metadata": {},
   "source": [
    "# Data Analysis and Visualization"
   ]
  },
  {
   "cell_type": "markdown",
   "metadata": {},
   "source": [
    "##### Q. Is there are any Null values in the Dataset?\n",
    "\n",
    "A. There are no null null values in the dataset, we can see the results below."
   ]
  },
  {
   "cell_type": "code",
   "execution_count": 190,
   "metadata": {},
   "outputs": [
    {
     "data": {
      "text/plain": [
       "Age               0\n",
       "Sex               0\n",
       "ChestPainType     0\n",
       "RestingBP         0\n",
       "Cholesterol       0\n",
       "FastingBS         0\n",
       "RestingECG        0\n",
       "MaxHR             0\n",
       "ExerciseAngina    0\n",
       "Oldpeak           0\n",
       "ST_Slope          0\n",
       "HeartDisease      0\n",
       "dtype: int64"
      ]
     },
     "execution_count": 190,
     "metadata": {},
     "output_type": "execute_result"
    }
   ],
   "source": [
    "df.isna().sum()"
   ]
  },
  {
   "cell_type": "markdown",
   "metadata": {},
   "source": [
    "##### What are the statistics of the data?"
   ]
  },
  {
   "cell_type": "code",
   "execution_count": 191,
   "metadata": {
    "scrolled": true
   },
   "outputs": [
    {
     "data": {
      "text/html": [
       "<div>\n",
       "<style scoped>\n",
       "    .dataframe tbody tr th:only-of-type {\n",
       "        vertical-align: middle;\n",
       "    }\n",
       "\n",
       "    .dataframe tbody tr th {\n",
       "        vertical-align: top;\n",
       "    }\n",
       "\n",
       "    .dataframe thead th {\n",
       "        text-align: right;\n",
       "    }\n",
       "</style>\n",
       "<table border=\"1\" class=\"dataframe\">\n",
       "  <thead>\n",
       "    <tr style=\"text-align: right;\">\n",
       "      <th></th>\n",
       "      <th>Age</th>\n",
       "      <th>Sex</th>\n",
       "      <th>ChestPainType</th>\n",
       "      <th>RestingBP</th>\n",
       "      <th>Cholesterol</th>\n",
       "      <th>FastingBS</th>\n",
       "      <th>RestingECG</th>\n",
       "      <th>MaxHR</th>\n",
       "      <th>ExerciseAngina</th>\n",
       "      <th>Oldpeak</th>\n",
       "      <th>ST_Slope</th>\n",
       "      <th>HeartDisease</th>\n",
       "    </tr>\n",
       "  </thead>\n",
       "  <tbody>\n",
       "    <tr>\n",
       "      <th>count</th>\n",
       "      <td>918.000000</td>\n",
       "      <td>918</td>\n",
       "      <td>918</td>\n",
       "      <td>918.000000</td>\n",
       "      <td>918.000000</td>\n",
       "      <td>918.000000</td>\n",
       "      <td>918</td>\n",
       "      <td>918.000000</td>\n",
       "      <td>918</td>\n",
       "      <td>918.000000</td>\n",
       "      <td>918</td>\n",
       "      <td>918</td>\n",
       "    </tr>\n",
       "    <tr>\n",
       "      <th>unique</th>\n",
       "      <td>NaN</td>\n",
       "      <td>2</td>\n",
       "      <td>4</td>\n",
       "      <td>NaN</td>\n",
       "      <td>NaN</td>\n",
       "      <td>NaN</td>\n",
       "      <td>3</td>\n",
       "      <td>NaN</td>\n",
       "      <td>2</td>\n",
       "      <td>NaN</td>\n",
       "      <td>3</td>\n",
       "      <td>2</td>\n",
       "    </tr>\n",
       "    <tr>\n",
       "      <th>top</th>\n",
       "      <td>NaN</td>\n",
       "      <td>M</td>\n",
       "      <td>ASY</td>\n",
       "      <td>NaN</td>\n",
       "      <td>NaN</td>\n",
       "      <td>NaN</td>\n",
       "      <td>Normal</td>\n",
       "      <td>NaN</td>\n",
       "      <td>N</td>\n",
       "      <td>NaN</td>\n",
       "      <td>Flat</td>\n",
       "      <td>Heart Disease</td>\n",
       "    </tr>\n",
       "    <tr>\n",
       "      <th>freq</th>\n",
       "      <td>NaN</td>\n",
       "      <td>725</td>\n",
       "      <td>496</td>\n",
       "      <td>NaN</td>\n",
       "      <td>NaN</td>\n",
       "      <td>NaN</td>\n",
       "      <td>552</td>\n",
       "      <td>NaN</td>\n",
       "      <td>547</td>\n",
       "      <td>NaN</td>\n",
       "      <td>460</td>\n",
       "      <td>508</td>\n",
       "    </tr>\n",
       "    <tr>\n",
       "      <th>mean</th>\n",
       "      <td>53.510893</td>\n",
       "      <td>NaN</td>\n",
       "      <td>NaN</td>\n",
       "      <td>132.396514</td>\n",
       "      <td>198.799564</td>\n",
       "      <td>0.233115</td>\n",
       "      <td>NaN</td>\n",
       "      <td>136.809368</td>\n",
       "      <td>NaN</td>\n",
       "      <td>0.887364</td>\n",
       "      <td>NaN</td>\n",
       "      <td>NaN</td>\n",
       "    </tr>\n",
       "    <tr>\n",
       "      <th>std</th>\n",
       "      <td>9.432617</td>\n",
       "      <td>NaN</td>\n",
       "      <td>NaN</td>\n",
       "      <td>18.514154</td>\n",
       "      <td>109.384145</td>\n",
       "      <td>0.423046</td>\n",
       "      <td>NaN</td>\n",
       "      <td>25.460334</td>\n",
       "      <td>NaN</td>\n",
       "      <td>1.066570</td>\n",
       "      <td>NaN</td>\n",
       "      <td>NaN</td>\n",
       "    </tr>\n",
       "    <tr>\n",
       "      <th>min</th>\n",
       "      <td>28.000000</td>\n",
       "      <td>NaN</td>\n",
       "      <td>NaN</td>\n",
       "      <td>0.000000</td>\n",
       "      <td>0.000000</td>\n",
       "      <td>0.000000</td>\n",
       "      <td>NaN</td>\n",
       "      <td>60.000000</td>\n",
       "      <td>NaN</td>\n",
       "      <td>-2.600000</td>\n",
       "      <td>NaN</td>\n",
       "      <td>NaN</td>\n",
       "    </tr>\n",
       "    <tr>\n",
       "      <th>25%</th>\n",
       "      <td>47.000000</td>\n",
       "      <td>NaN</td>\n",
       "      <td>NaN</td>\n",
       "      <td>120.000000</td>\n",
       "      <td>173.250000</td>\n",
       "      <td>0.000000</td>\n",
       "      <td>NaN</td>\n",
       "      <td>120.000000</td>\n",
       "      <td>NaN</td>\n",
       "      <td>0.000000</td>\n",
       "      <td>NaN</td>\n",
       "      <td>NaN</td>\n",
       "    </tr>\n",
       "    <tr>\n",
       "      <th>50%</th>\n",
       "      <td>54.000000</td>\n",
       "      <td>NaN</td>\n",
       "      <td>NaN</td>\n",
       "      <td>130.000000</td>\n",
       "      <td>223.000000</td>\n",
       "      <td>0.000000</td>\n",
       "      <td>NaN</td>\n",
       "      <td>138.000000</td>\n",
       "      <td>NaN</td>\n",
       "      <td>0.600000</td>\n",
       "      <td>NaN</td>\n",
       "      <td>NaN</td>\n",
       "    </tr>\n",
       "    <tr>\n",
       "      <th>75%</th>\n",
       "      <td>60.000000</td>\n",
       "      <td>NaN</td>\n",
       "      <td>NaN</td>\n",
       "      <td>140.000000</td>\n",
       "      <td>267.000000</td>\n",
       "      <td>0.000000</td>\n",
       "      <td>NaN</td>\n",
       "      <td>156.000000</td>\n",
       "      <td>NaN</td>\n",
       "      <td>1.500000</td>\n",
       "      <td>NaN</td>\n",
       "      <td>NaN</td>\n",
       "    </tr>\n",
       "    <tr>\n",
       "      <th>max</th>\n",
       "      <td>77.000000</td>\n",
       "      <td>NaN</td>\n",
       "      <td>NaN</td>\n",
       "      <td>200.000000</td>\n",
       "      <td>603.000000</td>\n",
       "      <td>1.000000</td>\n",
       "      <td>NaN</td>\n",
       "      <td>202.000000</td>\n",
       "      <td>NaN</td>\n",
       "      <td>6.200000</td>\n",
       "      <td>NaN</td>\n",
       "      <td>NaN</td>\n",
       "    </tr>\n",
       "  </tbody>\n",
       "</table>\n",
       "</div>"
      ],
      "text/plain": [
       "               Age  Sex ChestPainType   RestingBP  Cholesterol   FastingBS  \\\n",
       "count   918.000000  918           918  918.000000   918.000000  918.000000   \n",
       "unique         NaN    2             4         NaN          NaN         NaN   \n",
       "top            NaN    M           ASY         NaN          NaN         NaN   \n",
       "freq           NaN  725           496         NaN          NaN         NaN   \n",
       "mean     53.510893  NaN           NaN  132.396514   198.799564    0.233115   \n",
       "std       9.432617  NaN           NaN   18.514154   109.384145    0.423046   \n",
       "min      28.000000  NaN           NaN    0.000000     0.000000    0.000000   \n",
       "25%      47.000000  NaN           NaN  120.000000   173.250000    0.000000   \n",
       "50%      54.000000  NaN           NaN  130.000000   223.000000    0.000000   \n",
       "75%      60.000000  NaN           NaN  140.000000   267.000000    0.000000   \n",
       "max      77.000000  NaN           NaN  200.000000   603.000000    1.000000   \n",
       "\n",
       "       RestingECG       MaxHR ExerciseAngina     Oldpeak ST_Slope  \\\n",
       "count         918  918.000000            918  918.000000      918   \n",
       "unique          3         NaN              2         NaN        3   \n",
       "top        Normal         NaN              N         NaN     Flat   \n",
       "freq          552         NaN            547         NaN      460   \n",
       "mean          NaN  136.809368            NaN    0.887364      NaN   \n",
       "std           NaN   25.460334            NaN    1.066570      NaN   \n",
       "min           NaN   60.000000            NaN   -2.600000      NaN   \n",
       "25%           NaN  120.000000            NaN    0.000000      NaN   \n",
       "50%           NaN  138.000000            NaN    0.600000      NaN   \n",
       "75%           NaN  156.000000            NaN    1.500000      NaN   \n",
       "max           NaN  202.000000            NaN    6.200000      NaN   \n",
       "\n",
       "         HeartDisease  \n",
       "count             918  \n",
       "unique              2  \n",
       "top     Heart Disease  \n",
       "freq              508  \n",
       "mean              NaN  \n",
       "std               NaN  \n",
       "min               NaN  \n",
       "25%               NaN  \n",
       "50%               NaN  \n",
       "75%               NaN  \n",
       "max               NaN  "
      ]
     },
     "execution_count": 191,
     "metadata": {},
     "output_type": "execute_result"
    }
   ],
   "source": [
    "df.describe(include ='all')\n"
   ]
  },
  {
   "cell_type": "markdown",
   "metadata": {},
   "source": [
    "###### Data types of the column"
   ]
  },
  {
   "cell_type": "code",
   "execution_count": 192,
   "metadata": {},
   "outputs": [
    {
     "data": {
      "text/plain": [
       "Age                 int64\n",
       "Sex                object\n",
       "ChestPainType      object\n",
       "RestingBP           int64\n",
       "Cholesterol         int64\n",
       "FastingBS           int64\n",
       "RestingECG         object\n",
       "MaxHR               int64\n",
       "ExerciseAngina     object\n",
       "Oldpeak           float64\n",
       "ST_Slope           object\n",
       "HeartDisease       object\n",
       "dtype: object"
      ]
     },
     "execution_count": 192,
     "metadata": {},
     "output_type": "execute_result"
    }
   ],
   "source": [
    "df.dtypes"
   ]
  },
  {
   "cell_type": "markdown",
   "metadata": {},
   "source": [
    "There are 5 Numeric and 7 Categorical features in the data."
   ]
  },
  {
   "cell_type": "markdown",
   "metadata": {},
   "source": [
    "##### Lets start our analysis with Heart Disease Column."
   ]
  },
  {
   "cell_type": "code",
   "execution_count": 193,
   "metadata": {},
   "outputs": [
    {
     "data": {
      "image/png": "[encoded data removed]",
      "text/plain": [
       "<Figure size 432x288 with 1 Axes>"
      ]
     },
     "metadata": {
      "needs_background": "light"
     },
     "output_type": "display_data"
    }
   ],
   "source": [
    "sns.countplot(x=\"HeartDisease\", data = df)\n",
    "plt.title('Distribution of Heart Disease')\n",
    "plt.show()"
   ]
  },
  {
   "cell_type": "markdown",
   "metadata": {},
   "source": [
    "<b>The majority of the Patient have Heart Disease. The class dont have class imabalance problem.</b>"
   ]
  },
  {
   "cell_type": "markdown",
   "metadata": {},
   "source": [
    "#####  Analyze Age Feature"
   ]
  },
  {
   "cell_type": "code",
   "execution_count": 194,
   "metadata": {},
   "outputs": [
    {
     "data": {
      "text/plain": [
       "(28, 53.510893246187365, 77)"
      ]
     },
     "execution_count": 194,
     "metadata": {},
     "output_type": "execute_result"
    }
   ],
   "source": [
    "df['Age'].min(), df['Age'].mean() , df['Age'].max() "
   ]
  },
  {
   "cell_type": "markdown",
   "metadata": {},
   "source": [
    "- The minimim age we have for any patient is 28, mean age as 53 and maximum as 77. \n",
    "- Majority of the patient's age lies near 53-54 Years."
   ]
  },
  {
   "cell_type": "markdown",
   "metadata": {},
   "source": [
    "##### lets check the distribution of the Age column"
   ]
  },
  {
   "cell_type": "code",
   "execution_count": 195,
   "metadata": {},
   "outputs": [
    {
     "data": {
      "image/png": "[encoded data removed]",
      "text/plain": [
       "<Figure size 360x360 with 1 Axes>"
      ]
     },
     "metadata": {
      "needs_background": "light"
     },
     "output_type": "display_data"
    }
   ],
   "source": [
    "sns.displot(df, x=\"Age\")\n",
    "plt.title('Age Distribution')\n",
    "plt.show()"
   ]
  },
  {
   "cell_type": "markdown",
   "metadata": {},
   "source": [
    "We can also confirm from above plot, that the majority of patient lies at age near 52-54 Years Age."
   ]
  },
  {
   "cell_type": "markdown",
   "metadata": {},
   "source": [
    "##### What is the relationship of Age with HeartDisease Class?"
   ]
  },
  {
   "cell_type": "code",
   "execution_count": 196,
   "metadata": {},
   "outputs": [
    {
     "data": {
      "image/png": "[encoded data removed]",
      "text/plain": [
       "<Figure size 466.375x360 with 1 Axes>"
      ]
     },
     "metadata": {
      "needs_background": "light"
     },
     "output_type": "display_data"
    }
   ],
   "source": [
    "sns.displot(df, x=\"Age\", hue = 'HeartDisease')\n",
    "plt.title('Age and Heart Disease')\n",
    "plt.show()"
   ]
  },
  {
   "cell_type": "markdown",
   "metadata": {},
   "source": [
    "- We can see that from graph majority of the patient with Heart Disease are aged and lies between 55 - 77.\n",
    "- The patients with Normal Heart Condition lies betwen age 30 to 55\n",
    "- There is a fine line between people with Heat Disease and Normal"
   ]
  },
  {
   "cell_type": "markdown",
   "metadata": {},
   "source": [
    "##### Distribution of Sex Feature"
   ]
  },
  {
   "cell_type": "code",
   "execution_count": 197,
   "metadata": {},
   "outputs": [
    {
     "data": {
      "image/png": "[encoded data removed]",
      "text/plain": [
       "<Figure size 432x288 with 1 Axes>"
      ]
     },
     "metadata": {
      "needs_background": "light"
     },
     "output_type": "display_data"
    }
   ],
   "source": [
    "sns.countplot(x=\"Sex\", data = df)\n",
    "plt.title('Distribution of Sex Feature')\n",
    "plt.show()"
   ]
  },
  {
   "cell_type": "markdown",
   "metadata": {},
   "source": [
    "- The Majority of the population is the MALE.\n",
    "- Now we will look at the Distribution of Male and Female with respect to Heart Disease and Normal Patients"
   ]
  },
  {
   "cell_type": "code",
   "execution_count": 198,
   "metadata": {},
   "outputs": [
    {
     "data": {
      "image/png": "[encoded data removed]",
      "text/plain": [
       "<Figure size 432x288 with 1 Axes>"
      ]
     },
     "metadata": {
      "needs_background": "light"
     },
     "output_type": "display_data"
    }
   ],
   "source": [
    "sns.countplot(x=\"Sex\", hue = 'HeartDisease', data = df)\n",
    "plt.title('Sex vs Heart Disease')\n",
    "plt.show()"
   ]
  },
  {
   "cell_type": "markdown",
   "metadata": {},
   "source": [
    "- We can see from above graph, The majority of the males have Heart Disease\n",
    "- In case of Females, the heart disease ratio is low."
   ]
  },
  {
   "cell_type": "markdown",
   "metadata": {},
   "source": [
    "#####  Chest Pain\n",
    "\n",
    "This feature represents the type of chest pain patient diagnose with. \n",
    "The possible types in our data are:\n",
    " \n",
    "1. <b>TA: Typical Angina</b> (Typical angina (TA) is defined as substernal chest pain precipitated by physical exertion or emotional stress and relieved with rest or nitroglycerin.)\n",
    "2.  <b>ATA: Atypical Angina</b> (When one experiences chest pain that doesn't meet the criteria for angina, it's known as atypical chest pain.)\n",
    "3. <b>NAP: Non-Anginal Pain </b>(Noncardiac chest pain is defined as recurring pain in your chest — typically, behind your breast bone and near your heart — that is not related to your heart. In most people, noncardiac chest pain is actually related to a problem with their esophagus, most often gastroesophageal reflux disease (GERD)\n",
    " \n",
    "4. <b>ASY: Asymptomatic</b> (Silent (asymptomatic) myocardial ischemia (SMI) is defined as a transient alteration in myocardial perfusion in the absence of chest pain or the usual anginal equivalents.)\n",
    " \n",
    " \n",
    " Source : The information about type of Chest pain is gathered from Google Search"
   ]
  },
  {
   "cell_type": "code",
   "execution_count": 199,
   "metadata": {},
   "outputs": [
    {
     "data": {
      "image/png": "[encoded data removed]",
      "text/plain": [
       "<Figure size 432x288 with 1 Axes>"
      ]
     },
     "metadata": {
      "needs_background": "light"
     },
     "output_type": "display_data"
    }
   ],
   "source": [
    "sns.countplot(x=\"ChestPainType\", hue = 'HeartDisease', data = df)\n",
    "plt.title('Chest Pain and Heart Disease Relationship')\n",
    "plt.show()"
   ]
  },
  {
   "cell_type": "markdown",
   "metadata": {},
   "source": [
    "1. From the plot we can see that the patinets with Asymptomatic Chest Pain are more likely to get the Heart Failure.\n",
    "2.  The patients with typical Angina are also at high risk of Hear Failure"
   ]
  },
  {
   "cell_type": "markdown",
   "metadata": {},
   "source": [
    "##### What is the realtionship of Resting BP with Heart Disease Feature?"
   ]
  },
  {
   "cell_type": "code",
   "execution_count": 200,
   "metadata": {},
   "outputs": [
    {
     "data": {
      "image/png": "[encoded data removed]",
      "text/plain": [
       "<Figure size 466.375x360 with 1 Axes>"
      ]
     },
     "metadata": {
      "needs_background": "light"
     },
     "output_type": "display_data"
    }
   ],
   "source": [
    "sns.displot(df, x=\"RestingBP\", hue='HeartDisease', kind = 'kde' )\n",
    "plt.title('Resting Blood Pressure and Heart Disease Relationship')\n",
    "plt.show()"
   ]
  },
  {
   "cell_type": "markdown",
   "metadata": {},
   "source": [
    "We can see that from graph, The trend of Normal People and People with Heart Disease is the same."
   ]
  },
  {
   "cell_type": "markdown",
   "metadata": {},
   "source": [
    "##### What is the relationship of Cholesterol with heart disease?"
   ]
  },
  {
   "cell_type": "code",
   "execution_count": 201,
   "metadata": {},
   "outputs": [
    {
     "data": {
      "image/png": "[encoded data removed]",
      "text/plain": [
       "<Figure size 466.375x360 with 1 Axes>"
      ]
     },
     "metadata": {
      "needs_background": "light"
     },
     "output_type": "display_data"
    }
   ],
   "source": [
    "sns.displot(df, x=\"Cholesterol\", hue='HeartDisease', kind = 'kde' )\n",
    "plt.title('Cholesterol Level and Heart Disease Relationship')\n",
    "plt.show()"
   ]
  },
  {
   "cell_type": "markdown",
   "metadata": {},
   "source": [
    "The relationship of Cholestrol level and Heart Disease is very distorted. We can see that people with High Cholestrol are more likely to Normal people"
   ]
  },
  {
   "cell_type": "markdown",
   "metadata": {},
   "source": [
    "##### What is the trend of Fasting Blood Sugar?\n",
    "\n",
    "1. If blood sugar is greater than 120 md/dl, then the fasting sugar considered as high and assigned with 1 value in data.\n",
    "2. If the Sugar is below 120 it is considered as normal and assigned with 0 value in data.\n",
    "\n"
   ]
  },
  {
   "cell_type": "code",
   "execution_count": 202,
   "metadata": {},
   "outputs": [
    {
     "data": {
      "image/png": "[encoded data removed]",
      "text/plain": [
       "<Figure size 432x288 with 1 Axes>"
      ]
     },
     "metadata": {
      "needs_background": "light"
     },
     "output_type": "display_data"
    }
   ],
   "source": [
    "sns.countplot( x=\"FastingBS\", hue='HeartDisease', data =df )\n",
    "plt.title('Cholesterol Level and Heart Disease Relationship')\n",
    "plt.show()"
   ]
  },
  {
   "cell_type": "markdown",
   "metadata": {},
   "source": [
    "##### What is Resting ECG?"
   ]
  },
  {
   "cell_type": "markdown",
   "metadata": {},
   "source": [
    "- Normal: Normal\n",
    "- ST: having ST-T wave abnormality (T wave inversions and/or ST elevation or depression of > 0.05 mV)\n",
    "- LVH: showing probable or definite left ventricular hypertrophy by Estes' criteria"
   ]
  },
  {
   "cell_type": "code",
   "execution_count": 203,
   "metadata": {},
   "outputs": [
    {
     "data": {
      "image/png": "[encoded data removed]",
      "text/plain": [
       "<Figure size 432x288 with 1 Axes>"
      ]
     },
     "metadata": {
      "needs_background": "light"
     },
     "output_type": "display_data"
    }
   ],
   "source": [
    "sns.countplot( x=\"RestingECG\", hue='HeartDisease', data =df )\n",
    "plt.title('Resting ECG and Heart Disease Relationship')\n",
    "plt.show()"
   ]
  },
  {
   "cell_type": "markdown",
   "metadata": {},
   "source": [
    "- From the above plot of ECG, We can say that ECG is very important feature for us. As the ECG result are \"ST\" or \"LVH\", there is high chance of heart Failure.\n",
    "- We can also see that the people with Normal ECG also get Heart Disease, which means people can also get heart disease with normal ECG, as it changes suddenly with heart conditions."
   ]
  },
  {
   "cell_type": "markdown",
   "metadata": {},
   "source": [
    "##### What is Trend of Maximum Heart Rate?\n",
    "\n",
    "MaxHR means Maximum Heart Rate Achieved. It contains Nuemeric values between  60 and 202"
   ]
  },
  {
   "cell_type": "code",
   "execution_count": 204,
   "metadata": {},
   "outputs": [
    {
     "data": {
      "image/png": "[encoded data removed]",
      "text/plain": [
       "<Figure size 466.375x360 with 1 Axes>"
      ]
     },
     "metadata": {
      "needs_background": "light"
     },
     "output_type": "display_data"
    }
   ],
   "source": [
    "sns.displot(df, x=\"MaxHR\", hue='HeartDisease', kind = 'kde' )\n",
    "plt.title('Maximum Heart Rate vs Heart Disease Relationship')\n",
    "plt.show()"
   ]
  },
  {
   "cell_type": "markdown",
   "metadata": {},
   "source": [
    "##### What is the trend of ExerciseAngina?\n",
    "\n",
    "Angina (pronounced ANN-juh-nuh or ann-JIE-nuh) is pain in the chest that comes on with exercise, stress, or other things that make the heart work harder. It is an extremely common symptom of coronary artery disease, which is caused by cholesterol-clogged coronary arteries.\n",
    "\n",
    "\n",
    "The Exercise-Induced Angina contains values as  [Y: Yes, N: No]\n"
   ]
  },
  {
   "cell_type": "code",
   "execution_count": 205,
   "metadata": {},
   "outputs": [
    {
     "data": {
      "image/png": "[encoded data removed]",
      "text/plain": [
       "<Figure size 466.375x360 with 1 Axes>"
      ]
     },
     "metadata": {
      "needs_background": "light"
     },
     "output_type": "display_data"
    }
   ],
   "source": [
    "sns.displot(df, x=\"ExerciseAngina\", hue='HeartDisease')\n",
    "plt.title('Exercise Angina and Heart Disease Relationship')\n",
    "plt.show()"
   ]
  },
  {
   "cell_type": "markdown",
   "metadata": {},
   "source": [
    "- We can see that from the Graph, the People with Exercise Angina is more likely to get the Heart Disease/Heart Failure. \n",
    "- This mean the patients have coronary artery disease"
   ]
  },
  {
   "cell_type": "markdown",
   "metadata": {},
   "source": [
    "##### What is old peak ?\n",
    "\n",
    "ST depression induced by exercise relative to rest ('ST' relates to positions on the ECG plot.) slope: the slope of the peak exercise ST segment — 0: downsloping; 1: flat; 2: upsloping.\n",
    "\n",
    " Oldpeak = ST  | [Numeric value measured in depression]"
   ]
  },
  {
   "cell_type": "code",
   "execution_count": 206,
   "metadata": {},
   "outputs": [
    {
     "data": {
      "image/png": "[encoded data removed]",
      "text/plain": [
       "<Figure size 432x288 with 1 Axes>"
      ]
     },
     "metadata": {
      "needs_background": "light"
     },
     "output_type": "display_data"
    }
   ],
   "source": [
    "ax = sns.violinplot(x=\"Oldpeak\", y=\"HeartDisease\",\n",
    "                 data=df, )"
   ]
  },
  {
   "cell_type": "code",
   "execution_count": 207,
   "metadata": {},
   "outputs": [
    {
     "data": {
      "image/png": "[encoded data removed]",
      "text/plain": [
       "<Figure size 466.375x360 with 1 Axes>"
      ]
     },
     "metadata": {
      "needs_background": "light"
     },
     "output_type": "display_data"
    }
   ],
   "source": [
    "sns.displot(df, x=\"Oldpeak\", hue='HeartDisease', kind = 'kde')\n",
    "plt.title('Old Peak vs Heart Disease Relationship')\n",
    "plt.show()"
   ]
  },
  {
   "cell_type": "markdown",
   "metadata": {},
   "source": [
    "- From the above plot we can see that if the value of Oldpeal is lower then equals to 0, there is less chance of Heart Disease and Heart Failure.\n",
    "- From the plot, we can also see that if the value of old peak is greater than 0 there is high chance of Heart Disease."
   ]
  },
  {
   "cell_type": "markdown",
   "metadata": {},
   "source": [
    "##### What is ST Slope?\n",
    "\n",
    "The ST segment shift relative to exercise-induced increments in heart rate, the ST/heart rate slope (ST/HR slope), has been proposed as a more accurate ECG criterion for diagnosing significant coronary artery disease (CAD).\n",
    "\n",
    "The Slope of the Peak Exercise ST Segment:\n",
    "\n",
    "1. Up: upsloping\n",
    "2. Flat: flat\n",
    "3. Down: downsloping"
   ]
  },
  {
   "cell_type": "code",
   "execution_count": 208,
   "metadata": {},
   "outputs": [
    {
     "data": {
      "image/png": "[encoded data removed]",
      "text/plain": [
       "<Figure size 432x288 with 1 Axes>"
      ]
     },
     "metadata": {
      "needs_background": "light"
     },
     "output_type": "display_data"
    }
   ],
   "source": [
    "sns.countplot( x=\"ST_Slope\", hue='HeartDisease', data =df )\n",
    "plt.title('ST Slope and Heart Disease Relationship')\n",
    "plt.show()"
   ]
  },
  {
   "cell_type": "markdown",
   "metadata": {},
   "source": [
    "We can see that from the plot, if the slope gone flat and Down, there is high liklyhood of Heart Disease."
   ]
  },
  {
   "cell_type": "markdown",
   "metadata": {},
   "source": [
    "# Data Encoding\n",
    "\n",
    "Features are in string format, we need to assign each value with integer type value, because model only understands the numeric values."
   ]
  },
  {
   "cell_type": "code",
   "execution_count": 209,
   "metadata": {},
   "outputs": [],
   "source": [
    "# Categorical Features\n",
    "cat_features = ['Sex', 'ChestPainType', 'FastingBS', 'RestingECG', 'ExerciseAngina', 'ST_Slope', 'HeartDisease']\n",
    "Numeric_features = ['Age', 'RestingBP', 'Cholesterol', 'MaxHR', 'Oldpeak']"
   ]
  },
  {
   "cell_type": "code",
   "execution_count": 210,
   "metadata": {},
   "outputs": [],
   "source": [
    "from sklearn.preprocessing import LabelEncoder\n",
    "le = LabelEncoder()"
   ]
  },
  {
   "cell_type": "code",
   "execution_count": 211,
   "metadata": {},
   "outputs": [],
   "source": [
    "for i in cat_features:\n",
    "    df[i] =  le.fit_transform(df[i])"
   ]
  },
  {
   "cell_type": "code",
   "execution_count": 212,
   "metadata": {},
   "outputs": [
    {
     "data": {
      "text/html": [
       "<div>\n",
       "<style scoped>\n",
       "    .dataframe tbody tr th:only-of-type {\n",
       "        vertical-align: middle;\n",
       "    }\n",
       "\n",
       "    .dataframe tbody tr th {\n",
       "        vertical-align: top;\n",
       "    }\n",
       "\n",
       "    .dataframe thead th {\n",
       "        text-align: right;\n",
       "    }\n",
       "</style>\n",
       "<table border=\"1\" class=\"dataframe\">\n",
       "  <thead>\n",
       "    <tr style=\"text-align: right;\">\n",
       "      <th></th>\n",
       "      <th>Age</th>\n",
       "      <th>Sex</th>\n",
       "      <th>ChestPainType</th>\n",
       "      <th>RestingBP</th>\n",
       "      <th>Cholesterol</th>\n",
       "      <th>FastingBS</th>\n",
       "      <th>RestingECG</th>\n",
       "      <th>MaxHR</th>\n",
       "      <th>ExerciseAngina</th>\n",
       "      <th>Oldpeak</th>\n",
       "      <th>ST_Slope</th>\n",
       "      <th>HeartDisease</th>\n",
       "    </tr>\n",
       "  </thead>\n",
       "  <tbody>\n",
       "    <tr>\n",
       "      <th>0</th>\n",
       "      <td>40</td>\n",
       "      <td>1</td>\n",
       "      <td>1</td>\n",
       "      <td>140</td>\n",
       "      <td>289</td>\n",
       "      <td>0</td>\n",
       "      <td>1</td>\n",
       "      <td>172</td>\n",
       "      <td>0</td>\n",
       "      <td>0.0</td>\n",
       "      <td>2</td>\n",
       "      <td>1</td>\n",
       "    </tr>\n",
       "    <tr>\n",
       "      <th>1</th>\n",
       "      <td>49</td>\n",
       "      <td>0</td>\n",
       "      <td>2</td>\n",
       "      <td>160</td>\n",
       "      <td>180</td>\n",
       "      <td>0</td>\n",
       "      <td>1</td>\n",
       "      <td>156</td>\n",
       "      <td>0</td>\n",
       "      <td>1.0</td>\n",
       "      <td>1</td>\n",
       "      <td>0</td>\n",
       "    </tr>\n",
       "    <tr>\n",
       "      <th>2</th>\n",
       "      <td>37</td>\n",
       "      <td>1</td>\n",
       "      <td>1</td>\n",
       "      <td>130</td>\n",
       "      <td>283</td>\n",
       "      <td>0</td>\n",
       "      <td>2</td>\n",
       "      <td>98</td>\n",
       "      <td>0</td>\n",
       "      <td>0.0</td>\n",
       "      <td>2</td>\n",
       "      <td>1</td>\n",
       "    </tr>\n",
       "    <tr>\n",
       "      <th>3</th>\n",
       "      <td>48</td>\n",
       "      <td>0</td>\n",
       "      <td>0</td>\n",
       "      <td>138</td>\n",
       "      <td>214</td>\n",
       "      <td>0</td>\n",
       "      <td>1</td>\n",
       "      <td>108</td>\n",
       "      <td>1</td>\n",
       "      <td>1.5</td>\n",
       "      <td>1</td>\n",
       "      <td>0</td>\n",
       "    </tr>\n",
       "    <tr>\n",
       "      <th>4</th>\n",
       "      <td>54</td>\n",
       "      <td>1</td>\n",
       "      <td>2</td>\n",
       "      <td>150</td>\n",
       "      <td>195</td>\n",
       "      <td>0</td>\n",
       "      <td>1</td>\n",
       "      <td>122</td>\n",
       "      <td>0</td>\n",
       "      <td>0.0</td>\n",
       "      <td>2</td>\n",
       "      <td>1</td>\n",
       "    </tr>\n",
       "  </tbody>\n",
       "</table>\n",
       "</div>"
      ],
      "text/plain": [
       "   Age  Sex  ChestPainType  RestingBP  Cholesterol  FastingBS  RestingECG  \\\n",
       "0   40    1              1        140          289          0           1   \n",
       "1   49    0              2        160          180          0           1   \n",
       "2   37    1              1        130          283          0           2   \n",
       "3   48    0              0        138          214          0           1   \n",
       "4   54    1              2        150          195          0           1   \n",
       "\n",
       "   MaxHR  ExerciseAngina  Oldpeak  ST_Slope  HeartDisease  \n",
       "0    172               0      0.0         2             1  \n",
       "1    156               0      1.0         1             0  \n",
       "2     98               0      0.0         2             1  \n",
       "3    108               1      1.5         1             0  \n",
       "4    122               0      0.0         2             1  "
      ]
     },
     "execution_count": 212,
     "metadata": {},
     "output_type": "execute_result"
    }
   ],
   "source": [
    "df.head()"
   ]
  },
  {
   "cell_type": "markdown",
   "metadata": {},
   "source": [
    "Using Sklearn Label Encoder, we encoded the Categorical Features of the data. \n"
   ]
  },
  {
   "cell_type": "code",
   "execution_count": 213,
   "metadata": {},
   "outputs": [],
   "source": [
    "X = df.drop(columns = ['HeartDisease'])\n",
    "Y = df[['HeartDisease']]"
   ]
  },
  {
   "cell_type": "code",
   "execution_count": 214,
   "metadata": {},
   "outputs": [
    {
     "data": {
      "text/html": [
       "<div>\n",
       "<style scoped>\n",
       "    .dataframe tbody tr th:only-of-type {\n",
       "        vertical-align: middle;\n",
       "    }\n",
       "\n",
       "    .dataframe tbody tr th {\n",
       "        vertical-align: top;\n",
       "    }\n",
       "\n",
       "    .dataframe thead th {\n",
       "        text-align: right;\n",
       "    }\n",
       "</style>\n",
       "<table border=\"1\" class=\"dataframe\">\n",
       "  <thead>\n",
       "    <tr style=\"text-align: right;\">\n",
       "      <th></th>\n",
       "      <th>Age</th>\n",
       "      <th>RestingBP</th>\n",
       "      <th>Cholesterol</th>\n",
       "      <th>MaxHR</th>\n",
       "      <th>Oldpeak</th>\n",
       "    </tr>\n",
       "  </thead>\n",
       "  <tbody>\n",
       "    <tr>\n",
       "      <th>Age</th>\n",
       "      <td>1.000000</td>\n",
       "      <td>0.254399</td>\n",
       "      <td>-0.095282</td>\n",
       "      <td>-0.382045</td>\n",
       "      <td>0.258612</td>\n",
       "    </tr>\n",
       "    <tr>\n",
       "      <th>RestingBP</th>\n",
       "      <td>0.254399</td>\n",
       "      <td>1.000000</td>\n",
       "      <td>0.100893</td>\n",
       "      <td>-0.112135</td>\n",
       "      <td>0.164803</td>\n",
       "    </tr>\n",
       "    <tr>\n",
       "      <th>Cholesterol</th>\n",
       "      <td>-0.095282</td>\n",
       "      <td>0.100893</td>\n",
       "      <td>1.000000</td>\n",
       "      <td>0.235792</td>\n",
       "      <td>0.050148</td>\n",
       "    </tr>\n",
       "    <tr>\n",
       "      <th>MaxHR</th>\n",
       "      <td>-0.382045</td>\n",
       "      <td>-0.112135</td>\n",
       "      <td>0.235792</td>\n",
       "      <td>1.000000</td>\n",
       "      <td>-0.160691</td>\n",
       "    </tr>\n",
       "    <tr>\n",
       "      <th>Oldpeak</th>\n",
       "      <td>0.258612</td>\n",
       "      <td>0.164803</td>\n",
       "      <td>0.050148</td>\n",
       "      <td>-0.160691</td>\n",
       "      <td>1.000000</td>\n",
       "    </tr>\n",
       "  </tbody>\n",
       "</table>\n",
       "</div>"
      ],
      "text/plain": [
       "                  Age  RestingBP  Cholesterol     MaxHR   Oldpeak\n",
       "Age          1.000000   0.254399    -0.095282 -0.382045  0.258612\n",
       "RestingBP    0.254399   1.000000     0.100893 -0.112135  0.164803\n",
       "Cholesterol -0.095282   0.100893     1.000000  0.235792  0.050148\n",
       "MaxHR       -0.382045  -0.112135     0.235792  1.000000 -0.160691\n",
       "Oldpeak      0.258612   0.164803     0.050148 -0.160691  1.000000"
      ]
     },
     "execution_count": 214,
     "metadata": {},
     "output_type": "execute_result"
    }
   ],
   "source": [
    "df[['Age', 'RestingBP', 'Cholesterol', 'MaxHR', 'Oldpeak']].corr()"
   ]
  },
  {
   "cell_type": "markdown",
   "metadata": {},
   "source": [
    "# Data Scaling\n",
    "\n",
    "Data Scaling is the important part of Feature Engineering, as model learn well when features in the same scale."
   ]
  },
  {
   "cell_type": "code",
   "execution_count": 215,
   "metadata": {},
   "outputs": [],
   "source": [
    "from sklearn.preprocessing import StandardScaler\n",
    "sc =  StandardScaler()\n",
    "scaled_data = sc.fit_transform(X)"
   ]
  },
  {
   "cell_type": "code",
   "execution_count": 216,
   "metadata": {},
   "outputs": [
    {
     "data": {
      "text/plain": [
       "array([[-1.4331398 ,  0.51595242,  0.22903206, ..., -0.8235563 ,\n",
       "        -0.83243239,  1.05211381],\n",
       "       [-0.47848359, -1.93816322,  1.27505906, ..., -0.8235563 ,\n",
       "         0.10566353, -0.59607813],\n",
       "       [-1.75135854,  0.51595242,  0.22903206, ..., -0.8235563 ,\n",
       "        -0.83243239,  1.05211381],\n",
       "       ...,\n",
       "       [ 0.37009972,  0.51595242, -0.81699495, ...,  1.21424608,\n",
       "         0.29328271, -0.59607813],\n",
       "       [ 0.37009972, -1.93816322,  0.22903206, ..., -0.8235563 ,\n",
       "        -0.83243239, -0.59607813],\n",
       "       [-1.64528563,  0.51595242,  1.27505906, ..., -0.8235563 ,\n",
       "        -0.83243239,  1.05211381]])"
      ]
     },
     "execution_count": 216,
     "metadata": {},
     "output_type": "execute_result"
    }
   ],
   "source": [
    "scaled_data"
   ]
  },
  {
   "cell_type": "markdown",
   "metadata": {},
   "source": [
    "# Train Test Split\n",
    "\n",
    "Split Data into Training and Test Samples,\n",
    "We split 25% data from the total data for testing of the trained models."
   ]
  },
  {
   "cell_type": "code",
   "execution_count": 217,
   "metadata": {},
   "outputs": [],
   "source": [
    "from sklearn.model_selection import train_test_split\n",
    "X_train, X_test, Y_train, Y_test = train_test_split(X, Y, test_size = 0.25, random_state = 3)"
   ]
  },
  {
   "cell_type": "code",
   "execution_count": 218,
   "metadata": {},
   "outputs": [
    {
     "data": {
      "text/plain": [
       "((688, 11), (230, 11), (688, 1), (230, 1))"
      ]
     },
     "execution_count": 218,
     "metadata": {},
     "output_type": "execute_result"
    }
   ],
   "source": [
    "X_train.shape, X_test.shape, Y_train.shape, Y_test.shape"
   ]
  },
  {
   "cell_type": "markdown",
   "metadata": {},
   "source": [
    "# Machine Learning Modeling"
   ]
  },
  {
   "cell_type": "code",
   "execution_count": 219,
   "metadata": {},
   "outputs": [],
   "source": [
    "# Import Evaluation Metrics\n",
    "from sklearn.metrics import classification_report, confusion_matrix, accuracy_score, precision_score, recall_score, plot_confusion_matrix, plot_precision_recall_curve"
   ]
  },
  {
   "cell_type": "markdown",
   "metadata": {},
   "source": [
    "### Logistic Regression"
   ]
  },
  {
   "cell_type": "code",
   "execution_count": 220,
   "metadata": {},
   "outputs": [
    {
     "name": "stderr",
     "output_type": "stream",
     "text": [
      "C:\\ProgramData\\Anaconda3\\lib\\site-packages\\sklearn\\utils\\validation.py:63: DataConversionWarning: A column-vector y was passed when a 1d array was expected. Please change the shape of y to (n_samples, ), for example using ravel().\n",
      "  return f(*args, **kwargs)\n",
      "C:\\ProgramData\\Anaconda3\\lib\\site-packages\\sklearn\\linear_model\\_logistic.py:763: ConvergenceWarning: lbfgs failed to converge (status=1):\n",
      "STOP: TOTAL NO. of ITERATIONS REACHED LIMIT.\n",
      "\n",
      "Increase the number of iterations (max_iter) or scale the data as shown in:\n",
      "    https://scikit-learn.org/stable/modules/preprocessing.html\n",
      "Please also refer to the documentation for alternative solver options:\n",
      "    https://scikit-learn.org/stable/modules/linear_model.html#logistic-regression\n",
      "  n_iter_i = _check_optimize_result(\n"
     ]
    }
   ],
   "source": [
    "from sklearn.linear_model import LogisticRegression\n",
    "lr =  LogisticRegression()\n",
    "lr.fit(X_train, Y_train)\n",
    "\n",
    "lr_predict = lr.predict(X_test)"
   ]
  },
  {
   "cell_type": "code",
   "execution_count": 221,
   "metadata": {},
   "outputs": [
    {
     "name": "stdout",
     "output_type": "stream",
     "text": [
      "              precision    recall  f1-score   support\n",
      "\n",
      "           0       0.90      0.87      0.88       126\n",
      "           1       0.84      0.88      0.86       104\n",
      "\n",
      "    accuracy                           0.87       230\n",
      "   macro avg       0.87      0.87      0.87       230\n",
      "weighted avg       0.88      0.87      0.87       230\n",
      "\n"
     ]
    }
   ],
   "source": [
    "print(classification_report(Y_test, lr_predict))"
   ]
  },
  {
   "cell_type": "code",
   "execution_count": 222,
   "metadata": {
    "scrolled": true
   },
   "outputs": [
    {
     "data": {
      "image/png": "[encoded data removed]",
      "text/plain": [
       "<Figure size 432x288 with 2 Axes>"
      ]
     },
     "metadata": {
      "needs_background": "light"
     },
     "output_type": "display_data"
    }
   ],
   "source": [
    "plot_confusion_matrix(lr, X_test, Y_test, display_labels=['Heart Disease', 'Normal'])\n",
    "plt.title('Confusion Matrix of Logistic Regression')\n",
    "plt.show()"
   ]
  },
  {
   "cell_type": "code",
   "execution_count": 223,
   "metadata": {},
   "outputs": [
    {
     "data": {
      "image/png": "[encoded data removed]",
      "text/plain": [
       "<Figure size 432x288 with 1 Axes>"
      ]
     },
     "metadata": {
      "needs_background": "light"
     },
     "output_type": "display_data"
    }
   ],
   "source": [
    "plot_precision_recall_curve(lr, X_test, Y_test)\n",
    "plt.title('Precision Recall Curve of Logistic Regression')\n",
    "plt.show()"
   ]
  },
  {
   "cell_type": "markdown",
   "metadata": {},
   "source": [
    "### Support Vector Machines"
   ]
  },
  {
   "cell_type": "code",
   "execution_count": 224,
   "metadata": {},
   "outputs": [
    {
     "name": "stderr",
     "output_type": "stream",
     "text": [
      "C:\\ProgramData\\Anaconda3\\lib\\site-packages\\sklearn\\utils\\validation.py:63: DataConversionWarning: A column-vector y was passed when a 1d array was expected. Please change the shape of y to (n_samples, ), for example using ravel().\n",
      "  return f(*args, **kwargs)\n"
     ]
    }
   ],
   "source": [
    "from sklearn import svm\n",
    "SVM = svm.SVC()\n",
    "SVM.fit(X_train, Y_train)\n",
    "\n",
    "SVM_predict = SVM.predict(X_test)"
   ]
  },
  {
   "cell_type": "code",
   "execution_count": 225,
   "metadata": {},
   "outputs": [
    {
     "name": "stdout",
     "output_type": "stream",
     "text": [
      "              precision    recall  f1-score   support\n",
      "\n",
      "           0       0.78      0.80      0.79       126\n",
      "           1       0.75      0.72      0.74       104\n",
      "\n",
      "    accuracy                           0.77       230\n",
      "   macro avg       0.76      0.76      0.76       230\n",
      "weighted avg       0.76      0.77      0.76       230\n",
      "\n"
     ]
    }
   ],
   "source": [
    "print(classification_report(Y_test, SVM_predict))"
   ]
  },
  {
   "cell_type": "markdown",
   "metadata": {},
   "source": [
    "We will not Deep dive in the results of SVM Model, Because the Results are not so good."
   ]
  },
  {
   "cell_type": "markdown",
   "metadata": {},
   "source": [
    "### Lets try some Tree Base Boosting Algorithms."
   ]
  },
  {
   "cell_type": "markdown",
   "metadata": {},
   "source": [
    "### Cat Boost Classifier"
   ]
  },
  {
   "cell_type": "code",
   "execution_count": 226,
   "metadata": {
    "scrolled": true
   },
   "outputs": [
    {
     "name": "stdout",
     "output_type": "stream",
     "text": [
      "Learning rate set to 0.008782\n",
      "0:\tlearn: 0.6856163\ttotal: 13.4ms\tremaining: 13.4s\n",
      "1:\tlearn: 0.6786084\ttotal: 19.3ms\tremaining: 9.62s\n",
      "2:\tlearn: 0.6726143\ttotal: 26.5ms\tremaining: 8.82s\n",
      "3:\tlearn: 0.6658155\ttotal: 37.9ms\tremaining: 9.43s\n",
      "4:\tlearn: 0.6591518\ttotal: 43.6ms\tremaining: 8.67s\n",
      "5:\tlearn: 0.6522249\ttotal: 49.2ms\tremaining: 8.15s\n",
      "6:\tlearn: 0.6451901\ttotal: 55.6ms\tremaining: 7.89s\n",
      "7:\tlearn: 0.6394471\ttotal: 61.8ms\tremaining: 7.66s\n",
      "8:\tlearn: 0.6333346\ttotal: 68.5ms\tremaining: 7.54s\n",
      "9:\tlearn: 0.6269757\ttotal: 73.9ms\tremaining: 7.32s\n",
      "10:\tlearn: 0.6211372\ttotal: 80.6ms\tremaining: 7.25s\n",
      "11:\tlearn: 0.6161734\ttotal: 86.3ms\tremaining: 7.1s\n",
      "12:\tlearn: 0.6107335\ttotal: 95ms\tremaining: 7.21s\n",
      "13:\tlearn: 0.6058328\ttotal: 102ms\tremaining: 7.19s\n",
      "14:\tlearn: 0.6007548\ttotal: 107ms\tremaining: 7.05s\n",
      "15:\tlearn: 0.5952784\ttotal: 114ms\tremaining: 7s\n",
      "16:\tlearn: 0.5908899\ttotal: 119ms\tremaining: 6.88s\n",
      "17:\tlearn: 0.5858487\ttotal: 125ms\tremaining: 6.82s\n",
      "18:\tlearn: 0.5808786\ttotal: 130ms\tremaining: 6.74s\n",
      "19:\tlearn: 0.5767163\ttotal: 136ms\tremaining: 6.67s\n",
      "20:\tlearn: 0.5726710\ttotal: 142ms\tremaining: 6.64s\n",
      "21:\tlearn: 0.5676426\ttotal: 148ms\tremaining: 6.57s\n",
      "22:\tlearn: 0.5626604\ttotal: 155ms\tremaining: 6.57s\n",
      "23:\tlearn: 0.5580138\ttotal: 160ms\tremaining: 6.52s\n",
      "24:\tlearn: 0.5534565\ttotal: 166ms\tremaining: 6.48s\n",
      "25:\tlearn: 0.5487430\ttotal: 173ms\tremaining: 6.47s\n",
      "26:\tlearn: 0.5451280\ttotal: 177ms\tremaining: 6.38s\n",
      "27:\tlearn: 0.5407217\ttotal: 186ms\tremaining: 6.46s\n",
      "28:\tlearn: 0.5366024\ttotal: 198ms\tremaining: 6.62s\n",
      "29:\tlearn: 0.5335872\ttotal: 202ms\tremaining: 6.53s\n",
      "30:\tlearn: 0.5291541\ttotal: 209ms\tremaining: 6.52s\n",
      "31:\tlearn: 0.5260032\ttotal: 217ms\tremaining: 6.57s\n",
      "32:\tlearn: 0.5214490\ttotal: 233ms\tremaining: 6.82s\n",
      "33:\tlearn: 0.5173418\ttotal: 246ms\tremaining: 6.99s\n",
      "34:\tlearn: 0.5136426\ttotal: 253ms\tremaining: 6.97s\n",
      "35:\tlearn: 0.5098220\ttotal: 263ms\tremaining: 7.03s\n",
      "36:\tlearn: 0.5062982\ttotal: 270ms\tremaining: 7.02s\n",
      "37:\tlearn: 0.5023613\ttotal: 276ms\tremaining: 6.99s\n",
      "38:\tlearn: 0.4981088\ttotal: 288ms\tremaining: 7.09s\n",
      "39:\tlearn: 0.4959755\ttotal: 291ms\tremaining: 6.99s\n",
      "40:\tlearn: 0.4925546\ttotal: 302ms\tremaining: 7.07s\n",
      "41:\tlearn: 0.4893562\ttotal: 310ms\tremaining: 7.06s\n",
      "42:\tlearn: 0.4861821\ttotal: 321ms\tremaining: 7.15s\n",
      "43:\tlearn: 0.4829600\ttotal: 331ms\tremaining: 7.18s\n",
      "44:\tlearn: 0.4801298\ttotal: 337ms\tremaining: 7.15s\n",
      "45:\tlearn: 0.4768044\ttotal: 347ms\tremaining: 7.19s\n",
      "46:\tlearn: 0.4733783\ttotal: 352ms\tremaining: 7.14s\n",
      "47:\tlearn: 0.4701621\ttotal: 363ms\tremaining: 7.19s\n",
      "48:\tlearn: 0.4675232\ttotal: 368ms\tremaining: 7.15s\n",
      "49:\tlearn: 0.4644418\ttotal: 379ms\tremaining: 7.2s\n",
      "50:\tlearn: 0.4614827\ttotal: 384ms\tremaining: 7.14s\n",
      "51:\tlearn: 0.4586504\ttotal: 393ms\tremaining: 7.16s\n",
      "52:\tlearn: 0.4558115\ttotal: 398ms\tremaining: 7.11s\n",
      "53:\tlearn: 0.4538393\ttotal: 409ms\tremaining: 7.17s\n",
      "54:\tlearn: 0.4509019\ttotal: 415ms\tremaining: 7.13s\n",
      "55:\tlearn: 0.4477257\ttotal: 425ms\tremaining: 7.16s\n",
      "56:\tlearn: 0.4443904\ttotal: 431ms\tremaining: 7.12s\n",
      "57:\tlearn: 0.4415666\ttotal: 439ms\tremaining: 7.13s\n",
      "58:\tlearn: 0.4390682\ttotal: 444ms\tremaining: 7.08s\n",
      "59:\tlearn: 0.4365075\ttotal: 454ms\tremaining: 7.11s\n",
      "60:\tlearn: 0.4341954\ttotal: 459ms\tremaining: 7.07s\n",
      "61:\tlearn: 0.4314302\ttotal: 468ms\tremaining: 7.08s\n",
      "62:\tlearn: 0.4291376\ttotal: 474ms\tremaining: 7.05s\n",
      "63:\tlearn: 0.4269543\ttotal: 483ms\tremaining: 7.06s\n",
      "64:\tlearn: 0.4246883\ttotal: 490ms\tremaining: 7.04s\n",
      "65:\tlearn: 0.4230980\ttotal: 497ms\tremaining: 7.03s\n",
      "66:\tlearn: 0.4211090\ttotal: 503ms\tremaining: 7.01s\n",
      "67:\tlearn: 0.4187610\ttotal: 511ms\tremaining: 7.01s\n",
      "68:\tlearn: 0.4163841\ttotal: 517ms\tremaining: 6.98s\n",
      "69:\tlearn: 0.4143086\ttotal: 529ms\tremaining: 7.03s\n",
      "70:\tlearn: 0.4125945\ttotal: 535ms\tremaining: 7s\n",
      "71:\tlearn: 0.4117216\ttotal: 539ms\tremaining: 6.94s\n",
      "72:\tlearn: 0.4095710\ttotal: 544ms\tremaining: 6.91s\n",
      "73:\tlearn: 0.4074763\ttotal: 550ms\tremaining: 6.88s\n",
      "74:\tlearn: 0.4053309\ttotal: 556ms\tremaining: 6.86s\n",
      "75:\tlearn: 0.4030663\ttotal: 561ms\tremaining: 6.82s\n",
      "76:\tlearn: 0.4012411\ttotal: 570ms\tremaining: 6.83s\n",
      "77:\tlearn: 0.3996953\ttotal: 575ms\tremaining: 6.8s\n",
      "78:\tlearn: 0.3979706\ttotal: 584ms\tremaining: 6.81s\n",
      "79:\tlearn: 0.3961891\ttotal: 589ms\tremaining: 6.77s\n",
      "80:\tlearn: 0.3942470\ttotal: 594ms\tremaining: 6.74s\n",
      "81:\tlearn: 0.3929564\ttotal: 600ms\tremaining: 6.72s\n",
      "82:\tlearn: 0.3910713\ttotal: 605ms\tremaining: 6.68s\n",
      "83:\tlearn: 0.3896038\ttotal: 611ms\tremaining: 6.66s\n",
      "84:\tlearn: 0.3881367\ttotal: 616ms\tremaining: 6.63s\n",
      "85:\tlearn: 0.3872186\ttotal: 619ms\tremaining: 6.58s\n",
      "86:\tlearn: 0.3861336\ttotal: 627ms\tremaining: 6.58s\n",
      "87:\tlearn: 0.3845175\ttotal: 633ms\tremaining: 6.56s\n",
      "88:\tlearn: 0.3829461\ttotal: 638ms\tremaining: 6.53s\n",
      "89:\tlearn: 0.3816330\ttotal: 644ms\tremaining: 6.52s\n",
      "90:\tlearn: 0.3802330\ttotal: 650ms\tremaining: 6.49s\n",
      "91:\tlearn: 0.3787976\ttotal: 658ms\tremaining: 6.49s\n",
      "92:\tlearn: 0.3772228\ttotal: 664ms\tremaining: 6.47s\n",
      "93:\tlearn: 0.3757471\ttotal: 671ms\tremaining: 6.46s\n",
      "94:\tlearn: 0.3740036\ttotal: 675ms\tremaining: 6.43s\n",
      "95:\tlearn: 0.3728954\ttotal: 682ms\tremaining: 6.42s\n",
      "96:\tlearn: 0.3716311\ttotal: 689ms\tremaining: 6.42s\n",
      "97:\tlearn: 0.3709214\ttotal: 698ms\tremaining: 6.42s\n",
      "98:\tlearn: 0.3691468\ttotal: 705ms\tremaining: 6.42s\n",
      "99:\tlearn: 0.3678744\ttotal: 711ms\tremaining: 6.4s\n",
      "100:\tlearn: 0.3664427\ttotal: 719ms\tremaining: 6.4s\n",
      "101:\tlearn: 0.3648111\ttotal: 727ms\tremaining: 6.4s\n",
      "102:\tlearn: 0.3632424\ttotal: 735ms\tremaining: 6.4s\n",
      "103:\tlearn: 0.3619590\ttotal: 743ms\tremaining: 6.4s\n",
      "104:\tlearn: 0.3614470\ttotal: 748ms\tremaining: 6.38s\n",
      "105:\tlearn: 0.3597255\ttotal: 758ms\tremaining: 6.4s\n",
      "106:\tlearn: 0.3587991\ttotal: 767ms\tremaining: 6.4s\n",
      "107:\tlearn: 0.3583064\ttotal: 770ms\tremaining: 6.36s\n",
      "108:\tlearn: 0.3567396\ttotal: 779ms\tremaining: 6.37s\n",
      "109:\tlearn: 0.3554298\ttotal: 786ms\tremaining: 6.36s\n",
      "110:\tlearn: 0.3538882\ttotal: 797ms\tremaining: 6.38s\n",
      "111:\tlearn: 0.3525911\ttotal: 805ms\tremaining: 6.38s\n",
      "112:\tlearn: 0.3514344\ttotal: 815ms\tremaining: 6.4s\n",
      "113:\tlearn: 0.3503033\ttotal: 822ms\tremaining: 6.38s\n",
      "114:\tlearn: 0.3491225\ttotal: 833ms\tremaining: 6.41s\n",
      "115:\tlearn: 0.3478226\ttotal: 846ms\tremaining: 6.44s\n",
      "116:\tlearn: 0.3467721\ttotal: 851ms\tremaining: 6.42s\n",
      "117:\tlearn: 0.3457512\ttotal: 862ms\tremaining: 6.44s\n",
      "118:\tlearn: 0.3446821\ttotal: 868ms\tremaining: 6.43s\n",
      "119:\tlearn: 0.3439285\ttotal: 878ms\tremaining: 6.44s\n",
      "120:\tlearn: 0.3430763\ttotal: 890ms\tremaining: 6.47s\n",
      "121:\tlearn: 0.3423260\ttotal: 899ms\tremaining: 6.47s\n",
      "122:\tlearn: 0.3413150\ttotal: 906ms\tremaining: 6.46s\n",
      "123:\tlearn: 0.3401304\ttotal: 915ms\tremaining: 6.46s\n",
      "124:\tlearn: 0.3392824\ttotal: 922ms\tremaining: 6.45s\n",
      "125:\tlearn: 0.3388536\ttotal: 933ms\tremaining: 6.47s\n",
      "126:\tlearn: 0.3378742\ttotal: 939ms\tremaining: 6.46s\n",
      "127:\tlearn: 0.3367931\ttotal: 948ms\tremaining: 6.46s\n",
      "128:\tlearn: 0.3357722\ttotal: 963ms\tremaining: 6.5s\n",
      "129:\tlearn: 0.3345466\ttotal: 968ms\tremaining: 6.48s\n",
      "130:\tlearn: 0.3332294\ttotal: 973ms\tremaining: 6.46s\n",
      "131:\tlearn: 0.3330248\ttotal: 976ms\tremaining: 6.42s\n",
      "132:\tlearn: 0.3320715\ttotal: 988ms\tremaining: 6.44s\n",
      "133:\tlearn: 0.3312525\ttotal: 1000ms\tremaining: 6.46s\n",
      "134:\tlearn: 0.3307419\ttotal: 1.01s\tremaining: 6.49s\n",
      "135:\tlearn: 0.3295248\ttotal: 1.02s\tremaining: 6.47s\n",
      "136:\tlearn: 0.3286030\ttotal: 1.03s\tremaining: 6.48s\n",
      "137:\tlearn: 0.3281287\ttotal: 1.03s\tremaining: 6.46s\n",
      "138:\tlearn: 0.3275984\ttotal: 1.04s\tremaining: 6.47s\n",
      "139:\tlearn: 0.3268020\ttotal: 1.05s\tremaining: 6.45s\n",
      "140:\tlearn: 0.3262039\ttotal: 1.06s\tremaining: 6.45s\n",
      "141:\tlearn: 0.3254485\ttotal: 1.06s\tremaining: 6.43s\n",
      "142:\tlearn: 0.3247868\ttotal: 1.07s\tremaining: 6.43s\n",
      "143:\tlearn: 0.3239023\ttotal: 1.08s\tremaining: 6.42s\n",
      "144:\tlearn: 0.3231905\ttotal: 1.09s\tremaining: 6.41s\n",
      "145:\tlearn: 0.3223752\ttotal: 1.1s\tremaining: 6.41s\n",
      "146:\tlearn: 0.3219676\ttotal: 1.11s\tremaining: 6.42s\n",
      "147:\tlearn: 0.3210875\ttotal: 1.11s\tremaining: 6.4s\n",
      "148:\tlearn: 0.3204789\ttotal: 1.12s\tremaining: 6.4s\n",
      "149:\tlearn: 0.3199372\ttotal: 1.13s\tremaining: 6.38s\n",
      "150:\tlearn: 0.3192934\ttotal: 1.13s\tremaining: 6.38s\n",
      "151:\tlearn: 0.3186382\ttotal: 1.14s\tremaining: 6.36s\n",
      "152:\tlearn: 0.3178856\ttotal: 1.15s\tremaining: 6.36s\n",
      "153:\tlearn: 0.3170079\ttotal: 1.15s\tremaining: 6.34s\n",
      "154:\tlearn: 0.3161728\ttotal: 1.16s\tremaining: 6.32s\n",
      "155:\tlearn: 0.3153277\ttotal: 1.17s\tremaining: 6.32s\n",
      "156:\tlearn: 0.3146331\ttotal: 1.17s\tremaining: 6.31s\n",
      "157:\tlearn: 0.3135840\ttotal: 1.18s\tremaining: 6.3s\n",
      "158:\tlearn: 0.3127394\ttotal: 1.19s\tremaining: 6.3s\n",
      "159:\tlearn: 0.3120386\ttotal: 1.2s\tremaining: 6.29s\n",
      "160:\tlearn: 0.3115557\ttotal: 1.21s\tremaining: 6.31s\n",
      "161:\tlearn: 0.3107703\ttotal: 1.22s\tremaining: 6.29s\n",
      "162:\tlearn: 0.3100964\ttotal: 1.22s\tremaining: 6.29s\n",
      "163:\tlearn: 0.3089895\ttotal: 1.23s\tremaining: 6.26s\n",
      "164:\tlearn: 0.3084062\ttotal: 1.24s\tremaining: 6.27s\n",
      "165:\tlearn: 0.3078263\ttotal: 1.24s\tremaining: 6.25s\n",
      "166:\tlearn: 0.3071624\ttotal: 1.25s\tremaining: 6.26s\n",
      "167:\tlearn: 0.3065350\ttotal: 1.26s\tremaining: 6.25s\n"
     ]
    },
    {
     "name": "stdout",
     "output_type": "stream",
     "text": [
      "168:\tlearn: 0.3059264\ttotal: 1.27s\tremaining: 6.27s\n",
      "169:\tlearn: 0.3055516\ttotal: 1.28s\tremaining: 6.25s\n",
      "170:\tlearn: 0.3049323\ttotal: 1.29s\tremaining: 6.24s\n",
      "171:\tlearn: 0.3042403\ttotal: 1.29s\tremaining: 6.22s\n",
      "172:\tlearn: 0.3032231\ttotal: 1.3s\tremaining: 6.21s\n",
      "173:\tlearn: 0.3027243\ttotal: 1.3s\tremaining: 6.2s\n",
      "174:\tlearn: 0.3022315\ttotal: 1.31s\tremaining: 6.19s\n",
      "175:\tlearn: 0.3013194\ttotal: 1.32s\tremaining: 6.17s\n",
      "176:\tlearn: 0.3008642\ttotal: 1.33s\tremaining: 6.17s\n",
      "177:\tlearn: 0.2999379\ttotal: 1.33s\tremaining: 6.16s\n",
      "178:\tlearn: 0.2993010\ttotal: 1.34s\tremaining: 6.14s\n",
      "179:\tlearn: 0.2986835\ttotal: 1.34s\tremaining: 6.13s\n",
      "180:\tlearn: 0.2980120\ttotal: 1.36s\tremaining: 6.14s\n",
      "181:\tlearn: 0.2976083\ttotal: 1.36s\tremaining: 6.13s\n",
      "182:\tlearn: 0.2973914\ttotal: 1.37s\tremaining: 6.11s\n",
      "183:\tlearn: 0.2968429\ttotal: 1.38s\tremaining: 6.1s\n",
      "184:\tlearn: 0.2963888\ttotal: 1.38s\tremaining: 6.1s\n",
      "185:\tlearn: 0.2957310\ttotal: 1.39s\tremaining: 6.09s\n",
      "186:\tlearn: 0.2952199\ttotal: 1.4s\tremaining: 6.09s\n",
      "187:\tlearn: 0.2947287\ttotal: 1.41s\tremaining: 6.07s\n",
      "188:\tlearn: 0.2945966\ttotal: 1.41s\tremaining: 6.05s\n",
      "189:\tlearn: 0.2940376\ttotal: 1.42s\tremaining: 6.05s\n",
      "190:\tlearn: 0.2934789\ttotal: 1.42s\tremaining: 6.03s\n",
      "191:\tlearn: 0.2928909\ttotal: 1.43s\tremaining: 6.03s\n",
      "192:\tlearn: 0.2925976\ttotal: 1.44s\tremaining: 6.02s\n",
      "193:\tlearn: 0.2922933\ttotal: 1.45s\tremaining: 6.01s\n",
      "194:\tlearn: 0.2917648\ttotal: 1.46s\tremaining: 6.01s\n",
      "195:\tlearn: 0.2909144\ttotal: 1.47s\tremaining: 6.01s\n",
      "196:\tlearn: 0.2905660\ttotal: 1.47s\tremaining: 5.99s\n",
      "197:\tlearn: 0.2901783\ttotal: 1.48s\tremaining: 5.99s\n",
      "198:\tlearn: 0.2895770\ttotal: 1.48s\tremaining: 5.98s\n",
      "199:\tlearn: 0.2888035\ttotal: 1.49s\tremaining: 5.98s\n",
      "200:\tlearn: 0.2884183\ttotal: 1.5s\tremaining: 5.96s\n",
      "201:\tlearn: 0.2876647\ttotal: 1.51s\tremaining: 5.96s\n",
      "202:\tlearn: 0.2871916\ttotal: 1.51s\tremaining: 5.93s\n",
      "203:\tlearn: 0.2865898\ttotal: 1.51s\tremaining: 5.92s\n",
      "204:\tlearn: 0.2859981\ttotal: 1.52s\tremaining: 5.91s\n",
      "205:\tlearn: 0.2855348\ttotal: 1.53s\tremaining: 5.89s\n",
      "206:\tlearn: 0.2850411\ttotal: 1.54s\tremaining: 5.89s\n",
      "207:\tlearn: 0.2848327\ttotal: 1.54s\tremaining: 5.87s\n",
      "208:\tlearn: 0.2843822\ttotal: 1.55s\tremaining: 5.85s\n",
      "209:\tlearn: 0.2840368\ttotal: 1.55s\tremaining: 5.85s\n",
      "210:\tlearn: 0.2835743\ttotal: 1.56s\tremaining: 5.83s\n",
      "211:\tlearn: 0.2829730\ttotal: 1.57s\tremaining: 5.82s\n",
      "212:\tlearn: 0.2823308\ttotal: 1.57s\tremaining: 5.81s\n",
      "213:\tlearn: 0.2816542\ttotal: 1.58s\tremaining: 5.81s\n",
      "214:\tlearn: 0.2811525\ttotal: 1.59s\tremaining: 5.79s\n",
      "215:\tlearn: 0.2805210\ttotal: 1.59s\tremaining: 5.77s\n",
      "216:\tlearn: 0.2799701\ttotal: 1.6s\tremaining: 5.78s\n",
      "217:\tlearn: 0.2793971\ttotal: 1.6s\tremaining: 5.76s\n",
      "218:\tlearn: 0.2787238\ttotal: 1.61s\tremaining: 5.76s\n",
      "219:\tlearn: 0.2783428\ttotal: 1.62s\tremaining: 5.75s\n",
      "220:\tlearn: 0.2779241\ttotal: 1.63s\tremaining: 5.75s\n",
      "221:\tlearn: 0.2774964\ttotal: 1.64s\tremaining: 5.74s\n",
      "222:\tlearn: 0.2769872\ttotal: 1.64s\tremaining: 5.73s\n",
      "223:\tlearn: 0.2766534\ttotal: 1.65s\tremaining: 5.71s\n",
      "224:\tlearn: 0.2760948\ttotal: 1.65s\tremaining: 5.7s\n",
      "225:\tlearn: 0.2754953\ttotal: 1.66s\tremaining: 5.68s\n",
      "226:\tlearn: 0.2751778\ttotal: 1.67s\tremaining: 5.67s\n",
      "227:\tlearn: 0.2745704\ttotal: 1.68s\tremaining: 5.67s\n",
      "228:\tlearn: 0.2740767\ttotal: 1.68s\tremaining: 5.65s\n",
      "229:\tlearn: 0.2736800\ttotal: 1.69s\tremaining: 5.64s\n",
      "230:\tlearn: 0.2730402\ttotal: 1.69s\tremaining: 5.63s\n",
      "231:\tlearn: 0.2727060\ttotal: 1.7s\tremaining: 5.62s\n",
      "232:\tlearn: 0.2723207\ttotal: 1.71s\tremaining: 5.62s\n",
      "233:\tlearn: 0.2718430\ttotal: 1.71s\tremaining: 5.61s\n",
      "234:\tlearn: 0.2713970\ttotal: 1.72s\tremaining: 5.6s\n",
      "235:\tlearn: 0.2711130\ttotal: 1.72s\tremaining: 5.58s\n",
      "236:\tlearn: 0.2708706\ttotal: 1.73s\tremaining: 5.56s\n",
      "237:\tlearn: 0.2703496\ttotal: 1.73s\tremaining: 5.55s\n",
      "238:\tlearn: 0.2698501\ttotal: 1.74s\tremaining: 5.54s\n",
      "239:\tlearn: 0.2694636\ttotal: 1.75s\tremaining: 5.54s\n",
      "240:\tlearn: 0.2691581\ttotal: 1.75s\tremaining: 5.52s\n",
      "241:\tlearn: 0.2687236\ttotal: 1.76s\tremaining: 5.51s\n",
      "242:\tlearn: 0.2683322\ttotal: 1.77s\tremaining: 5.51s\n",
      "243:\tlearn: 0.2679228\ttotal: 1.78s\tremaining: 5.5s\n",
      "244:\tlearn: 0.2672031\ttotal: 1.78s\tremaining: 5.49s\n",
      "245:\tlearn: 0.2668404\ttotal: 1.79s\tremaining: 5.49s\n",
      "246:\tlearn: 0.2665856\ttotal: 1.8s\tremaining: 5.48s\n",
      "247:\tlearn: 0.2660670\ttotal: 1.8s\tremaining: 5.47s\n",
      "248:\tlearn: 0.2657177\ttotal: 1.81s\tremaining: 5.46s\n",
      "249:\tlearn: 0.2654313\ttotal: 1.81s\tremaining: 5.44s\n",
      "250:\tlearn: 0.2650217\ttotal: 1.82s\tremaining: 5.44s\n",
      "251:\tlearn: 0.2644697\ttotal: 1.83s\tremaining: 5.43s\n",
      "252:\tlearn: 0.2639163\ttotal: 1.84s\tremaining: 5.43s\n",
      "253:\tlearn: 0.2636304\ttotal: 1.85s\tremaining: 5.43s\n",
      "254:\tlearn: 0.2632376\ttotal: 1.86s\tremaining: 5.43s\n",
      "255:\tlearn: 0.2627438\ttotal: 1.87s\tremaining: 5.42s\n",
      "256:\tlearn: 0.2621721\ttotal: 1.87s\tremaining: 5.42s\n",
      "257:\tlearn: 0.2616087\ttotal: 1.88s\tremaining: 5.42s\n",
      "258:\tlearn: 0.2613335\ttotal: 1.89s\tremaining: 5.4s\n",
      "259:\tlearn: 0.2608535\ttotal: 1.89s\tremaining: 5.38s\n",
      "260:\tlearn: 0.2605777\ttotal: 1.9s\tremaining: 5.38s\n",
      "261:\tlearn: 0.2603590\ttotal: 1.9s\tremaining: 5.36s\n",
      "262:\tlearn: 0.2602838\ttotal: 1.91s\tremaining: 5.34s\n",
      "263:\tlearn: 0.2599277\ttotal: 1.91s\tremaining: 5.34s\n",
      "264:\tlearn: 0.2595892\ttotal: 1.92s\tremaining: 5.32s\n",
      "265:\tlearn: 0.2591684\ttotal: 1.92s\tremaining: 5.31s\n",
      "266:\tlearn: 0.2589961\ttotal: 1.93s\tremaining: 5.3s\n",
      "267:\tlearn: 0.2585300\ttotal: 1.93s\tremaining: 5.28s\n",
      "268:\tlearn: 0.2580882\ttotal: 1.94s\tremaining: 5.26s\n",
      "269:\tlearn: 0.2577345\ttotal: 1.94s\tremaining: 5.25s\n",
      "270:\tlearn: 0.2573654\ttotal: 1.95s\tremaining: 5.24s\n",
      "271:\tlearn: 0.2569245\ttotal: 1.95s\tremaining: 5.22s\n",
      "272:\tlearn: 0.2567401\ttotal: 1.96s\tremaining: 5.22s\n",
      "273:\tlearn: 0.2565032\ttotal: 1.96s\tremaining: 5.2s\n",
      "274:\tlearn: 0.2560219\ttotal: 1.98s\tremaining: 5.21s\n",
      "275:\tlearn: 0.2555683\ttotal: 1.98s\tremaining: 5.19s\n",
      "276:\tlearn: 0.2553224\ttotal: 1.98s\tremaining: 5.18s\n",
      "277:\tlearn: 0.2547668\ttotal: 1.99s\tremaining: 5.17s\n",
      "278:\tlearn: 0.2546396\ttotal: 1.99s\tremaining: 5.15s\n",
      "279:\tlearn: 0.2543723\ttotal: 2s\tremaining: 5.14s\n",
      "280:\tlearn: 0.2540269\ttotal: 2s\tremaining: 5.13s\n",
      "281:\tlearn: 0.2537305\ttotal: 2.01s\tremaining: 5.11s\n",
      "282:\tlearn: 0.2534915\ttotal: 2.01s\tremaining: 5.1s\n",
      "283:\tlearn: 0.2532528\ttotal: 2.02s\tremaining: 5.09s\n",
      "284:\tlearn: 0.2526806\ttotal: 2.02s\tremaining: 5.07s\n",
      "285:\tlearn: 0.2523072\ttotal: 2.03s\tremaining: 5.06s\n",
      "286:\tlearn: 0.2521269\ttotal: 2.03s\tremaining: 5.05s\n",
      "287:\tlearn: 0.2517385\ttotal: 2.04s\tremaining: 5.04s\n",
      "288:\tlearn: 0.2517116\ttotal: 2.04s\tremaining: 5.02s\n",
      "289:\tlearn: 0.2515247\ttotal: 2.05s\tremaining: 5.01s\n",
      "290:\tlearn: 0.2512800\ttotal: 2.05s\tremaining: 5s\n",
      "291:\tlearn: 0.2511648\ttotal: 2.06s\tremaining: 4.98s\n",
      "292:\tlearn: 0.2510115\ttotal: 2.06s\tremaining: 4.97s\n",
      "293:\tlearn: 0.2506484\ttotal: 2.06s\tremaining: 4.96s\n",
      "294:\tlearn: 0.2503765\ttotal: 2.07s\tremaining: 4.94s\n",
      "295:\tlearn: 0.2500428\ttotal: 2.07s\tremaining: 4.93s\n",
      "296:\tlearn: 0.2496652\ttotal: 2.08s\tremaining: 4.92s\n",
      "297:\tlearn: 0.2493371\ttotal: 2.08s\tremaining: 4.91s\n",
      "298:\tlearn: 0.2490289\ttotal: 2.09s\tremaining: 4.89s\n",
      "299:\tlearn: 0.2487002\ttotal: 2.09s\tremaining: 4.89s\n",
      "300:\tlearn: 0.2482802\ttotal: 2.1s\tremaining: 4.87s\n",
      "301:\tlearn: 0.2478051\ttotal: 2.1s\tremaining: 4.86s\n",
      "302:\tlearn: 0.2473991\ttotal: 2.11s\tremaining: 4.85s\n",
      "303:\tlearn: 0.2470459\ttotal: 2.11s\tremaining: 4.84s\n",
      "304:\tlearn: 0.2466313\ttotal: 2.12s\tremaining: 4.82s\n",
      "305:\tlearn: 0.2463281\ttotal: 2.12s\tremaining: 4.81s\n",
      "306:\tlearn: 0.2461699\ttotal: 2.12s\tremaining: 4.8s\n",
      "307:\tlearn: 0.2458696\ttotal: 2.13s\tremaining: 4.78s\n",
      "308:\tlearn: 0.2456435\ttotal: 2.13s\tremaining: 4.77s\n",
      "309:\tlearn: 0.2454353\ttotal: 2.14s\tremaining: 4.75s\n",
      "310:\tlearn: 0.2450611\ttotal: 2.14s\tremaining: 4.74s\n",
      "311:\tlearn: 0.2444893\ttotal: 2.14s\tremaining: 4.73s\n",
      "312:\tlearn: 0.2442706\ttotal: 2.15s\tremaining: 4.71s\n",
      "313:\tlearn: 0.2440902\ttotal: 2.15s\tremaining: 4.7s\n",
      "314:\tlearn: 0.2438627\ttotal: 2.15s\tremaining: 4.68s\n",
      "315:\tlearn: 0.2436153\ttotal: 2.16s\tremaining: 4.67s\n",
      "316:\tlearn: 0.2432218\ttotal: 2.16s\tremaining: 4.66s\n",
      "317:\tlearn: 0.2429623\ttotal: 2.17s\tremaining: 4.64s\n",
      "318:\tlearn: 0.2427617\ttotal: 2.17s\tremaining: 4.63s\n",
      "319:\tlearn: 0.2423914\ttotal: 2.17s\tremaining: 4.62s\n",
      "320:\tlearn: 0.2422656\ttotal: 2.18s\tremaining: 4.61s\n",
      "321:\tlearn: 0.2419592\ttotal: 2.18s\tremaining: 4.59s\n",
      "322:\tlearn: 0.2416577\ttotal: 2.19s\tremaining: 4.58s\n",
      "323:\tlearn: 0.2413702\ttotal: 2.19s\tremaining: 4.57s\n",
      "324:\tlearn: 0.2410240\ttotal: 2.19s\tremaining: 4.55s\n",
      "325:\tlearn: 0.2408507\ttotal: 2.2s\tremaining: 4.54s\n",
      "326:\tlearn: 0.2405826\ttotal: 2.2s\tremaining: 4.53s\n",
      "327:\tlearn: 0.2403147\ttotal: 2.2s\tremaining: 4.52s\n"
     ]
    },
    {
     "name": "stdout",
     "output_type": "stream",
     "text": [
      "328:\tlearn: 0.2399362\ttotal: 2.21s\tremaining: 4.51s\n",
      "329:\tlearn: 0.2397018\ttotal: 2.22s\tremaining: 4.5s\n",
      "330:\tlearn: 0.2394169\ttotal: 2.22s\tremaining: 4.49s\n",
      "331:\tlearn: 0.2392384\ttotal: 2.23s\tremaining: 4.49s\n",
      "332:\tlearn: 0.2390854\ttotal: 2.23s\tremaining: 4.47s\n",
      "333:\tlearn: 0.2387314\ttotal: 2.24s\tremaining: 4.46s\n",
      "334:\tlearn: 0.2386874\ttotal: 2.24s\tremaining: 4.46s\n",
      "335:\tlearn: 0.2385016\ttotal: 2.25s\tremaining: 4.44s\n",
      "336:\tlearn: 0.2382198\ttotal: 2.25s\tremaining: 4.43s\n",
      "337:\tlearn: 0.2381854\ttotal: 2.26s\tremaining: 4.43s\n",
      "338:\tlearn: 0.2379682\ttotal: 2.26s\tremaining: 4.42s\n",
      "339:\tlearn: 0.2376096\ttotal: 2.27s\tremaining: 4.4s\n",
      "340:\tlearn: 0.2375322\ttotal: 2.28s\tremaining: 4.4s\n",
      "341:\tlearn: 0.2373504\ttotal: 2.28s\tremaining: 4.38s\n",
      "342:\tlearn: 0.2371554\ttotal: 2.28s\tremaining: 4.37s\n",
      "343:\tlearn: 0.2368558\ttotal: 2.29s\tremaining: 4.37s\n",
      "344:\tlearn: 0.2365598\ttotal: 2.29s\tremaining: 4.36s\n",
      "345:\tlearn: 0.2363530\ttotal: 2.3s\tremaining: 4.34s\n",
      "346:\tlearn: 0.2359749\ttotal: 2.3s\tremaining: 4.34s\n",
      "347:\tlearn: 0.2357705\ttotal: 2.31s\tremaining: 4.33s\n",
      "348:\tlearn: 0.2354945\ttotal: 2.31s\tremaining: 4.32s\n",
      "349:\tlearn: 0.2351888\ttotal: 2.32s\tremaining: 4.31s\n",
      "350:\tlearn: 0.2348621\ttotal: 2.33s\tremaining: 4.3s\n",
      "351:\tlearn: 0.2346419\ttotal: 2.33s\tremaining: 4.29s\n",
      "352:\tlearn: 0.2344081\ttotal: 2.34s\tremaining: 4.28s\n",
      "353:\tlearn: 0.2341178\ttotal: 2.34s\tremaining: 4.27s\n",
      "354:\tlearn: 0.2339247\ttotal: 2.34s\tremaining: 4.26s\n",
      "355:\tlearn: 0.2337337\ttotal: 2.35s\tremaining: 4.26s\n",
      "356:\tlearn: 0.2335796\ttotal: 2.36s\tremaining: 4.25s\n",
      "357:\tlearn: 0.2332773\ttotal: 2.36s\tremaining: 4.23s\n",
      "358:\tlearn: 0.2329595\ttotal: 2.37s\tremaining: 4.23s\n",
      "359:\tlearn: 0.2327339\ttotal: 2.37s\tremaining: 4.22s\n",
      "360:\tlearn: 0.2323492\ttotal: 2.38s\tremaining: 4.21s\n",
      "361:\tlearn: 0.2321595\ttotal: 2.38s\tremaining: 4.2s\n",
      "362:\tlearn: 0.2318723\ttotal: 2.39s\tremaining: 4.19s\n",
      "363:\tlearn: 0.2316646\ttotal: 2.39s\tremaining: 4.18s\n",
      "364:\tlearn: 0.2312371\ttotal: 2.4s\tremaining: 4.17s\n",
      "365:\tlearn: 0.2310647\ttotal: 2.4s\tremaining: 4.16s\n",
      "366:\tlearn: 0.2309675\ttotal: 2.41s\tremaining: 4.15s\n",
      "367:\tlearn: 0.2306097\ttotal: 2.41s\tremaining: 4.14s\n",
      "368:\tlearn: 0.2302499\ttotal: 2.42s\tremaining: 4.13s\n",
      "369:\tlearn: 0.2300160\ttotal: 2.42s\tremaining: 4.12s\n",
      "370:\tlearn: 0.2299131\ttotal: 2.43s\tremaining: 4.11s\n",
      "371:\tlearn: 0.2297802\ttotal: 2.43s\tremaining: 4.1s\n",
      "372:\tlearn: 0.2296258\ttotal: 2.43s\tremaining: 4.09s\n",
      "373:\tlearn: 0.2295937\ttotal: 2.44s\tremaining: 4.09s\n",
      "374:\tlearn: 0.2292009\ttotal: 2.44s\tremaining: 4.07s\n",
      "375:\tlearn: 0.2289526\ttotal: 2.45s\tremaining: 4.06s\n",
      "376:\tlearn: 0.2285610\ttotal: 2.46s\tremaining: 4.06s\n",
      "377:\tlearn: 0.2285211\ttotal: 2.46s\tremaining: 4.04s\n",
      "378:\tlearn: 0.2284660\ttotal: 2.46s\tremaining: 4.03s\n",
      "379:\tlearn: 0.2281413\ttotal: 2.46s\tremaining: 4.02s\n",
      "380:\tlearn: 0.2280065\ttotal: 2.47s\tremaining: 4.01s\n",
      "381:\tlearn: 0.2277398\ttotal: 2.47s\tremaining: 4s\n",
      "382:\tlearn: 0.2274625\ttotal: 2.48s\tremaining: 3.99s\n",
      "383:\tlearn: 0.2273781\ttotal: 2.48s\tremaining: 3.98s\n",
      "384:\tlearn: 0.2272073\ttotal: 2.48s\tremaining: 3.97s\n",
      "385:\tlearn: 0.2269953\ttotal: 2.49s\tremaining: 3.96s\n",
      "386:\tlearn: 0.2264853\ttotal: 2.49s\tremaining: 3.95s\n",
      "387:\tlearn: 0.2263017\ttotal: 2.5s\tremaining: 3.94s\n",
      "388:\tlearn: 0.2261279\ttotal: 2.5s\tremaining: 3.93s\n",
      "389:\tlearn: 0.2258402\ttotal: 2.5s\tremaining: 3.92s\n",
      "390:\tlearn: 0.2255047\ttotal: 2.51s\tremaining: 3.91s\n",
      "391:\tlearn: 0.2251909\ttotal: 2.51s\tremaining: 3.9s\n",
      "392:\tlearn: 0.2250183\ttotal: 2.52s\tremaining: 3.89s\n",
      "393:\tlearn: 0.2249916\ttotal: 2.52s\tremaining: 3.88s\n",
      "394:\tlearn: 0.2247165\ttotal: 2.53s\tremaining: 3.87s\n",
      "395:\tlearn: 0.2245718\ttotal: 2.53s\tremaining: 3.86s\n",
      "396:\tlearn: 0.2242879\ttotal: 2.53s\tremaining: 3.85s\n",
      "397:\tlearn: 0.2239405\ttotal: 2.54s\tremaining: 3.84s\n",
      "398:\tlearn: 0.2238244\ttotal: 2.54s\tremaining: 3.83s\n",
      "399:\tlearn: 0.2235803\ttotal: 2.55s\tremaining: 3.82s\n",
      "400:\tlearn: 0.2232801\ttotal: 2.55s\tremaining: 3.81s\n",
      "401:\tlearn: 0.2232209\ttotal: 2.56s\tremaining: 3.8s\n",
      "402:\tlearn: 0.2228392\ttotal: 2.56s\tremaining: 3.79s\n",
      "403:\tlearn: 0.2226467\ttotal: 2.56s\tremaining: 3.78s\n",
      "404:\tlearn: 0.2223713\ttotal: 2.56s\tremaining: 3.77s\n",
      "405:\tlearn: 0.2219460\ttotal: 2.57s\tremaining: 3.76s\n",
      "406:\tlearn: 0.2216100\ttotal: 2.57s\tremaining: 3.75s\n",
      "407:\tlearn: 0.2213935\ttotal: 2.58s\tremaining: 3.74s\n",
      "408:\tlearn: 0.2212690\ttotal: 2.58s\tremaining: 3.73s\n",
      "409:\tlearn: 0.2210797\ttotal: 2.58s\tremaining: 3.72s\n",
      "410:\tlearn: 0.2208963\ttotal: 2.59s\tremaining: 3.71s\n",
      "411:\tlearn: 0.2207028\ttotal: 2.59s\tremaining: 3.7s\n",
      "412:\tlearn: 0.2204601\ttotal: 2.6s\tremaining: 3.69s\n",
      "413:\tlearn: 0.2201660\ttotal: 2.6s\tremaining: 3.68s\n",
      "414:\tlearn: 0.2198281\ttotal: 2.6s\tremaining: 3.67s\n",
      "415:\tlearn: 0.2196057\ttotal: 2.6s\tremaining: 3.66s\n",
      "416:\tlearn: 0.2193543\ttotal: 2.61s\tremaining: 3.65s\n",
      "417:\tlearn: 0.2189264\ttotal: 2.61s\tremaining: 3.64s\n",
      "418:\tlearn: 0.2188112\ttotal: 2.62s\tremaining: 3.63s\n",
      "419:\tlearn: 0.2185051\ttotal: 2.62s\tremaining: 3.62s\n",
      "420:\tlearn: 0.2182863\ttotal: 2.62s\tremaining: 3.61s\n",
      "421:\tlearn: 0.2178830\ttotal: 2.63s\tremaining: 3.6s\n",
      "422:\tlearn: 0.2176837\ttotal: 2.63s\tremaining: 3.58s\n",
      "423:\tlearn: 0.2173960\ttotal: 2.63s\tremaining: 3.58s\n",
      "424:\tlearn: 0.2172909\ttotal: 2.63s\tremaining: 3.56s\n",
      "425:\tlearn: 0.2171439\ttotal: 2.64s\tremaining: 3.56s\n",
      "426:\tlearn: 0.2170545\ttotal: 2.64s\tremaining: 3.54s\n",
      "427:\tlearn: 0.2167102\ttotal: 2.65s\tremaining: 3.54s\n",
      "428:\tlearn: 0.2165736\ttotal: 2.65s\tremaining: 3.52s\n",
      "429:\tlearn: 0.2164144\ttotal: 2.65s\tremaining: 3.52s\n",
      "430:\tlearn: 0.2162910\ttotal: 2.65s\tremaining: 3.51s\n",
      "431:\tlearn: 0.2159284\ttotal: 2.66s\tremaining: 3.5s\n",
      "432:\tlearn: 0.2158629\ttotal: 2.66s\tremaining: 3.48s\n",
      "433:\tlearn: 0.2157332\ttotal: 2.67s\tremaining: 3.48s\n",
      "434:\tlearn: 0.2155857\ttotal: 2.67s\tremaining: 3.47s\n",
      "435:\tlearn: 0.2154825\ttotal: 2.67s\tremaining: 3.46s\n",
      "436:\tlearn: 0.2151942\ttotal: 2.67s\tremaining: 3.45s\n",
      "437:\tlearn: 0.2150819\ttotal: 2.68s\tremaining: 3.44s\n",
      "438:\tlearn: 0.2148836\ttotal: 2.68s\tremaining: 3.43s\n",
      "439:\tlearn: 0.2146529\ttotal: 2.69s\tremaining: 3.42s\n",
      "440:\tlearn: 0.2145122\ttotal: 2.69s\tremaining: 3.41s\n",
      "441:\tlearn: 0.2144466\ttotal: 2.69s\tremaining: 3.4s\n",
      "442:\tlearn: 0.2144317\ttotal: 2.7s\tremaining: 3.39s\n",
      "443:\tlearn: 0.2143236\ttotal: 2.7s\tremaining: 3.38s\n",
      "444:\tlearn: 0.2140048\ttotal: 2.71s\tremaining: 3.38s\n",
      "445:\tlearn: 0.2138017\ttotal: 2.71s\tremaining: 3.37s\n",
      "446:\tlearn: 0.2134751\ttotal: 2.71s\tremaining: 3.36s\n",
      "447:\tlearn: 0.2133037\ttotal: 2.72s\tremaining: 3.35s\n",
      "448:\tlearn: 0.2131979\ttotal: 2.72s\tremaining: 3.34s\n",
      "449:\tlearn: 0.2128435\ttotal: 2.73s\tremaining: 3.33s\n",
      "450:\tlearn: 0.2126250\ttotal: 2.73s\tremaining: 3.32s\n",
      "451:\tlearn: 0.2125048\ttotal: 2.73s\tremaining: 3.31s\n",
      "452:\tlearn: 0.2122272\ttotal: 2.74s\tremaining: 3.31s\n",
      "453:\tlearn: 0.2121550\ttotal: 2.74s\tremaining: 3.3s\n",
      "454:\tlearn: 0.2118984\ttotal: 2.75s\tremaining: 3.29s\n",
      "455:\tlearn: 0.2116684\ttotal: 2.75s\tremaining: 3.28s\n",
      "456:\tlearn: 0.2115966\ttotal: 2.75s\tremaining: 3.27s\n",
      "457:\tlearn: 0.2114985\ttotal: 2.76s\tremaining: 3.27s\n",
      "458:\tlearn: 0.2112521\ttotal: 2.77s\tremaining: 3.26s\n",
      "459:\tlearn: 0.2109914\ttotal: 2.77s\tremaining: 3.25s\n",
      "460:\tlearn: 0.2107407\ttotal: 2.77s\tremaining: 3.24s\n",
      "461:\tlearn: 0.2103252\ttotal: 2.78s\tremaining: 3.24s\n",
      "462:\tlearn: 0.2101604\ttotal: 2.78s\tremaining: 3.23s\n",
      "463:\tlearn: 0.2098481\ttotal: 2.79s\tremaining: 3.22s\n",
      "464:\tlearn: 0.2095724\ttotal: 2.79s\tremaining: 3.21s\n",
      "465:\tlearn: 0.2093594\ttotal: 2.8s\tremaining: 3.2s\n",
      "466:\tlearn: 0.2090596\ttotal: 2.8s\tremaining: 3.19s\n",
      "467:\tlearn: 0.2090009\ttotal: 2.8s\tremaining: 3.19s\n",
      "468:\tlearn: 0.2088290\ttotal: 2.81s\tremaining: 3.18s\n",
      "469:\tlearn: 0.2085623\ttotal: 2.81s\tremaining: 3.17s\n",
      "470:\tlearn: 0.2083385\ttotal: 2.82s\tremaining: 3.17s\n",
      "471:\tlearn: 0.2079013\ttotal: 2.82s\tremaining: 3.16s\n",
      "472:\tlearn: 0.2077067\ttotal: 2.83s\tremaining: 3.15s\n",
      "473:\tlearn: 0.2075578\ttotal: 2.83s\tremaining: 3.14s\n",
      "474:\tlearn: 0.2073886\ttotal: 2.83s\tremaining: 3.13s\n",
      "475:\tlearn: 0.2072057\ttotal: 2.84s\tremaining: 3.13s\n",
      "476:\tlearn: 0.2071990\ttotal: 2.84s\tremaining: 3.11s\n",
      "477:\tlearn: 0.2070988\ttotal: 2.85s\tremaining: 3.11s\n",
      "478:\tlearn: 0.2067817\ttotal: 2.85s\tremaining: 3.1s\n",
      "479:\tlearn: 0.2066037\ttotal: 2.86s\tremaining: 3.09s\n",
      "480:\tlearn: 0.2064966\ttotal: 2.86s\tremaining: 3.09s\n",
      "481:\tlearn: 0.2062969\ttotal: 2.87s\tremaining: 3.08s\n",
      "482:\tlearn: 0.2062761\ttotal: 2.87s\tremaining: 3.07s\n",
      "483:\tlearn: 0.2061143\ttotal: 2.87s\tremaining: 3.06s\n",
      "484:\tlearn: 0.2059069\ttotal: 2.88s\tremaining: 3.06s\n",
      "485:\tlearn: 0.2057181\ttotal: 2.88s\tremaining: 3.05s\n",
      "486:\tlearn: 0.2053984\ttotal: 2.89s\tremaining: 3.04s\n",
      "487:\tlearn: 0.2050867\ttotal: 2.89s\tremaining: 3.04s\n",
      "488:\tlearn: 0.2047355\ttotal: 2.9s\tremaining: 3.03s\n",
      "489:\tlearn: 0.2045542\ttotal: 2.9s\tremaining: 3.02s\n",
      "490:\tlearn: 0.2043118\ttotal: 2.91s\tremaining: 3.01s\n",
      "491:\tlearn: 0.2041997\ttotal: 2.91s\tremaining: 3.01s\n",
      "492:\tlearn: 0.2039924\ttotal: 2.92s\tremaining: 3s\n",
      "493:\tlearn: 0.2038674\ttotal: 2.92s\tremaining: 2.99s\n",
      "494:\tlearn: 0.2036687\ttotal: 2.93s\tremaining: 2.98s\n",
      "495:\tlearn: 0.2034983\ttotal: 2.93s\tremaining: 2.98s\n",
      "496:\tlearn: 0.2033374\ttotal: 2.93s\tremaining: 2.97s\n",
      "497:\tlearn: 0.2030388\ttotal: 2.94s\tremaining: 2.96s\n",
      "498:\tlearn: 0.2028720\ttotal: 2.95s\tremaining: 2.96s\n",
      "499:\tlearn: 0.2025294\ttotal: 2.96s\tremaining: 2.96s\n",
      "500:\tlearn: 0.2023410\ttotal: 2.96s\tremaining: 2.95s\n",
      "501:\tlearn: 0.2020478\ttotal: 2.97s\tremaining: 2.94s\n"
     ]
    },
    {
     "name": "stdout",
     "output_type": "stream",
     "text": [
      "502:\tlearn: 0.2018936\ttotal: 2.97s\tremaining: 2.94s\n",
      "503:\tlearn: 0.2016878\ttotal: 2.98s\tremaining: 2.93s\n",
      "504:\tlearn: 0.2015309\ttotal: 2.98s\tremaining: 2.92s\n",
      "505:\tlearn: 0.2014294\ttotal: 2.98s\tremaining: 2.91s\n",
      "506:\tlearn: 0.2012055\ttotal: 2.99s\tremaining: 2.91s\n",
      "507:\tlearn: 0.2011293\ttotal: 2.99s\tremaining: 2.9s\n",
      "508:\tlearn: 0.2007575\ttotal: 3s\tremaining: 2.89s\n",
      "509:\tlearn: 0.2006562\ttotal: 3s\tremaining: 2.88s\n",
      "510:\tlearn: 0.2004935\ttotal: 3s\tremaining: 2.87s\n",
      "511:\tlearn: 0.2003492\ttotal: 3.01s\tremaining: 2.87s\n",
      "512:\tlearn: 0.2002098\ttotal: 3.01s\tremaining: 2.86s\n",
      "513:\tlearn: 0.2001346\ttotal: 3.02s\tremaining: 2.85s\n",
      "514:\tlearn: 0.1998727\ttotal: 3.02s\tremaining: 2.85s\n",
      "515:\tlearn: 0.1997652\ttotal: 3.03s\tremaining: 2.84s\n",
      "516:\tlearn: 0.1994052\ttotal: 3.03s\tremaining: 2.83s\n",
      "517:\tlearn: 0.1993129\ttotal: 3.03s\tremaining: 2.82s\n",
      "518:\tlearn: 0.1990229\ttotal: 3.04s\tremaining: 2.81s\n",
      "519:\tlearn: 0.1988628\ttotal: 3.05s\tremaining: 2.81s\n",
      "520:\tlearn: 0.1987333\ttotal: 3.05s\tremaining: 2.8s\n",
      "521:\tlearn: 0.1985614\ttotal: 3.05s\tremaining: 2.79s\n",
      "522:\tlearn: 0.1984110\ttotal: 3.06s\tremaining: 2.79s\n",
      "523:\tlearn: 0.1982484\ttotal: 3.06s\tremaining: 2.78s\n",
      "524:\tlearn: 0.1980553\ttotal: 3.06s\tremaining: 2.77s\n",
      "525:\tlearn: 0.1978230\ttotal: 3.07s\tremaining: 2.77s\n",
      "526:\tlearn: 0.1975097\ttotal: 3.08s\tremaining: 2.76s\n",
      "527:\tlearn: 0.1974313\ttotal: 3.08s\tremaining: 2.75s\n",
      "528:\tlearn: 0.1973287\ttotal: 3.08s\tremaining: 2.74s\n",
      "529:\tlearn: 0.1971959\ttotal: 3.09s\tremaining: 2.74s\n",
      "530:\tlearn: 0.1971129\ttotal: 3.09s\tremaining: 2.73s\n",
      "531:\tlearn: 0.1968128\ttotal: 3.1s\tremaining: 2.72s\n",
      "532:\tlearn: 0.1967039\ttotal: 3.1s\tremaining: 2.71s\n",
      "533:\tlearn: 0.1965476\ttotal: 3.1s\tremaining: 2.71s\n",
      "534:\tlearn: 0.1963947\ttotal: 3.11s\tremaining: 2.7s\n",
      "535:\tlearn: 0.1961208\ttotal: 3.11s\tremaining: 2.69s\n",
      "536:\tlearn: 0.1959724\ttotal: 3.11s\tremaining: 2.69s\n",
      "537:\tlearn: 0.1957717\ttotal: 3.12s\tremaining: 2.68s\n",
      "538:\tlearn: 0.1956267\ttotal: 3.12s\tremaining: 2.67s\n",
      "539:\tlearn: 0.1954483\ttotal: 3.13s\tremaining: 2.66s\n",
      "540:\tlearn: 0.1952147\ttotal: 3.13s\tremaining: 2.65s\n",
      "541:\tlearn: 0.1949410\ttotal: 3.13s\tremaining: 2.65s\n",
      "542:\tlearn: 0.1946951\ttotal: 3.13s\tremaining: 2.64s\n",
      "543:\tlearn: 0.1945253\ttotal: 3.14s\tremaining: 2.63s\n",
      "544:\tlearn: 0.1945068\ttotal: 3.14s\tremaining: 2.62s\n",
      "545:\tlearn: 0.1943635\ttotal: 3.15s\tremaining: 2.62s\n",
      "546:\tlearn: 0.1942250\ttotal: 3.15s\tremaining: 2.61s\n",
      "547:\tlearn: 0.1940615\ttotal: 3.15s\tremaining: 2.6s\n",
      "548:\tlearn: 0.1938101\ttotal: 3.15s\tremaining: 2.59s\n",
      "549:\tlearn: 0.1935922\ttotal: 3.16s\tremaining: 2.58s\n",
      "550:\tlearn: 0.1933808\ttotal: 3.16s\tremaining: 2.58s\n",
      "551:\tlearn: 0.1931339\ttotal: 3.17s\tremaining: 2.57s\n",
      "552:\tlearn: 0.1929975\ttotal: 3.17s\tremaining: 2.56s\n",
      "553:\tlearn: 0.1928080\ttotal: 3.17s\tremaining: 2.55s\n",
      "554:\tlearn: 0.1927514\ttotal: 3.17s\tremaining: 2.54s\n",
      "555:\tlearn: 0.1926805\ttotal: 3.18s\tremaining: 2.54s\n",
      "556:\tlearn: 0.1925419\ttotal: 3.18s\tremaining: 2.53s\n",
      "557:\tlearn: 0.1922294\ttotal: 3.18s\tremaining: 2.52s\n",
      "558:\tlearn: 0.1921086\ttotal: 3.19s\tremaining: 2.51s\n",
      "559:\tlearn: 0.1919622\ttotal: 3.19s\tremaining: 2.51s\n",
      "560:\tlearn: 0.1918398\ttotal: 3.19s\tremaining: 2.5s\n",
      "561:\tlearn: 0.1917498\ttotal: 3.2s\tremaining: 2.49s\n",
      "562:\tlearn: 0.1916488\ttotal: 3.2s\tremaining: 2.48s\n",
      "563:\tlearn: 0.1915366\ttotal: 3.2s\tremaining: 2.48s\n",
      "564:\tlearn: 0.1914350\ttotal: 3.21s\tremaining: 2.47s\n",
      "565:\tlearn: 0.1912009\ttotal: 3.21s\tremaining: 2.46s\n",
      "566:\tlearn: 0.1908690\ttotal: 3.21s\tremaining: 2.45s\n",
      "567:\tlearn: 0.1907073\ttotal: 3.22s\tremaining: 2.45s\n",
      "568:\tlearn: 0.1906556\ttotal: 3.22s\tremaining: 2.44s\n",
      "569:\tlearn: 0.1904245\ttotal: 3.22s\tremaining: 2.43s\n",
      "570:\tlearn: 0.1902410\ttotal: 3.23s\tremaining: 2.42s\n",
      "571:\tlearn: 0.1901098\ttotal: 3.23s\tremaining: 2.42s\n",
      "572:\tlearn: 0.1899402\ttotal: 3.23s\tremaining: 2.41s\n",
      "573:\tlearn: 0.1895957\ttotal: 3.24s\tremaining: 2.4s\n",
      "574:\tlearn: 0.1895068\ttotal: 3.24s\tremaining: 2.4s\n",
      "575:\tlearn: 0.1893591\ttotal: 3.24s\tremaining: 2.39s\n",
      "576:\tlearn: 0.1890998\ttotal: 3.25s\tremaining: 2.38s\n",
      "577:\tlearn: 0.1888896\ttotal: 3.25s\tremaining: 2.37s\n",
      "578:\tlearn: 0.1887019\ttotal: 3.25s\tremaining: 2.37s\n",
      "579:\tlearn: 0.1885783\ttotal: 3.26s\tremaining: 2.36s\n",
      "580:\tlearn: 0.1884085\ttotal: 3.26s\tremaining: 2.35s\n",
      "581:\tlearn: 0.1881182\ttotal: 3.26s\tremaining: 2.34s\n",
      "582:\tlearn: 0.1879543\ttotal: 3.27s\tremaining: 2.34s\n",
      "583:\tlearn: 0.1878753\ttotal: 3.27s\tremaining: 2.33s\n",
      "584:\tlearn: 0.1877863\ttotal: 3.28s\tremaining: 2.32s\n",
      "585:\tlearn: 0.1875638\ttotal: 3.28s\tremaining: 2.32s\n",
      "586:\tlearn: 0.1874616\ttotal: 3.28s\tremaining: 2.31s\n",
      "587:\tlearn: 0.1872943\ttotal: 3.29s\tremaining: 2.3s\n",
      "588:\tlearn: 0.1871441\ttotal: 3.29s\tremaining: 2.3s\n",
      "589:\tlearn: 0.1868757\ttotal: 3.3s\tremaining: 2.29s\n",
      "590:\tlearn: 0.1865080\ttotal: 3.3s\tremaining: 2.28s\n",
      "591:\tlearn: 0.1863353\ttotal: 3.31s\tremaining: 2.28s\n",
      "592:\tlearn: 0.1860806\ttotal: 3.31s\tremaining: 2.27s\n",
      "593:\tlearn: 0.1858621\ttotal: 3.31s\tremaining: 2.27s\n",
      "594:\tlearn: 0.1856486\ttotal: 3.32s\tremaining: 2.26s\n",
      "595:\tlearn: 0.1854775\ttotal: 3.32s\tremaining: 2.25s\n",
      "596:\tlearn: 0.1853647\ttotal: 3.33s\tremaining: 2.25s\n",
      "597:\tlearn: 0.1851931\ttotal: 3.33s\tremaining: 2.24s\n",
      "598:\tlearn: 0.1850510\ttotal: 3.33s\tremaining: 2.23s\n",
      "599:\tlearn: 0.1848922\ttotal: 3.34s\tremaining: 2.23s\n",
      "600:\tlearn: 0.1848159\ttotal: 3.34s\tremaining: 2.22s\n",
      "601:\tlearn: 0.1846294\ttotal: 3.35s\tremaining: 2.21s\n",
      "602:\tlearn: 0.1844688\ttotal: 3.35s\tremaining: 2.21s\n",
      "603:\tlearn: 0.1842375\ttotal: 3.36s\tremaining: 2.2s\n",
      "604:\tlearn: 0.1841705\ttotal: 3.36s\tremaining: 2.19s\n",
      "605:\tlearn: 0.1839554\ttotal: 3.36s\tremaining: 2.19s\n",
      "606:\tlearn: 0.1837338\ttotal: 3.37s\tremaining: 2.18s\n",
      "607:\tlearn: 0.1835843\ttotal: 3.38s\tremaining: 2.18s\n",
      "608:\tlearn: 0.1834526\ttotal: 3.38s\tremaining: 2.17s\n",
      "609:\tlearn: 0.1833093\ttotal: 3.38s\tremaining: 2.16s\n",
      "610:\tlearn: 0.1830982\ttotal: 3.39s\tremaining: 2.16s\n",
      "611:\tlearn: 0.1828226\ttotal: 3.39s\tremaining: 2.15s\n",
      "612:\tlearn: 0.1827908\ttotal: 3.4s\tremaining: 2.14s\n",
      "613:\tlearn: 0.1826542\ttotal: 3.4s\tremaining: 2.14s\n",
      "614:\tlearn: 0.1826254\ttotal: 3.4s\tremaining: 2.13s\n",
      "615:\tlearn: 0.1824643\ttotal: 3.41s\tremaining: 2.12s\n",
      "616:\tlearn: 0.1821636\ttotal: 3.41s\tremaining: 2.12s\n",
      "617:\tlearn: 0.1819578\ttotal: 3.42s\tremaining: 2.11s\n",
      "618:\tlearn: 0.1818139\ttotal: 3.42s\tremaining: 2.11s\n",
      "619:\tlearn: 0.1816706\ttotal: 3.43s\tremaining: 2.1s\n",
      "620:\tlearn: 0.1815134\ttotal: 3.43s\tremaining: 2.1s\n",
      "621:\tlearn: 0.1812509\ttotal: 3.44s\tremaining: 2.09s\n",
      "622:\tlearn: 0.1810484\ttotal: 3.44s\tremaining: 2.08s\n",
      "623:\tlearn: 0.1807850\ttotal: 3.45s\tremaining: 2.08s\n",
      "624:\tlearn: 0.1807166\ttotal: 3.45s\tremaining: 2.07s\n",
      "625:\tlearn: 0.1805103\ttotal: 3.45s\tremaining: 2.06s\n",
      "626:\tlearn: 0.1801554\ttotal: 3.46s\tremaining: 2.06s\n",
      "627:\tlearn: 0.1800887\ttotal: 3.46s\tremaining: 2.05s\n",
      "628:\tlearn: 0.1798681\ttotal: 3.47s\tremaining: 2.04s\n",
      "629:\tlearn: 0.1796440\ttotal: 3.47s\tremaining: 2.04s\n",
      "630:\tlearn: 0.1796288\ttotal: 3.47s\tremaining: 2.03s\n",
      "631:\tlearn: 0.1793783\ttotal: 3.48s\tremaining: 2.02s\n",
      "632:\tlearn: 0.1793044\ttotal: 3.48s\tremaining: 2.02s\n",
      "633:\tlearn: 0.1791082\ttotal: 3.48s\tremaining: 2.01s\n",
      "634:\tlearn: 0.1789032\ttotal: 3.49s\tremaining: 2s\n",
      "635:\tlearn: 0.1787510\ttotal: 3.5s\tremaining: 2s\n",
      "636:\tlearn: 0.1786829\ttotal: 3.5s\tremaining: 1.99s\n",
      "637:\tlearn: 0.1785436\ttotal: 3.5s\tremaining: 1.99s\n",
      "638:\tlearn: 0.1783983\ttotal: 3.51s\tremaining: 1.98s\n",
      "639:\tlearn: 0.1782479\ttotal: 3.51s\tremaining: 1.97s\n",
      "640:\tlearn: 0.1781127\ttotal: 3.51s\tremaining: 1.97s\n",
      "641:\tlearn: 0.1777956\ttotal: 3.52s\tremaining: 1.96s\n",
      "642:\tlearn: 0.1776848\ttotal: 3.52s\tremaining: 1.96s\n",
      "643:\tlearn: 0.1775307\ttotal: 3.53s\tremaining: 1.95s\n",
      "644:\tlearn: 0.1774896\ttotal: 3.53s\tremaining: 1.94s\n",
      "645:\tlearn: 0.1773572\ttotal: 3.53s\tremaining: 1.94s\n",
      "646:\tlearn: 0.1772326\ttotal: 3.54s\tremaining: 1.93s\n",
      "647:\tlearn: 0.1769323\ttotal: 3.54s\tremaining: 1.92s\n",
      "648:\tlearn: 0.1768652\ttotal: 3.54s\tremaining: 1.92s\n",
      "649:\tlearn: 0.1767430\ttotal: 3.55s\tremaining: 1.91s\n",
      "650:\tlearn: 0.1765008\ttotal: 3.55s\tremaining: 1.91s\n",
      "651:\tlearn: 0.1762104\ttotal: 3.56s\tremaining: 1.9s\n",
      "652:\tlearn: 0.1760416\ttotal: 3.56s\tremaining: 1.89s\n",
      "653:\tlearn: 0.1758207\ttotal: 3.56s\tremaining: 1.89s\n",
      "654:\tlearn: 0.1757138\ttotal: 3.57s\tremaining: 1.88s\n",
      "655:\tlearn: 0.1755237\ttotal: 3.57s\tremaining: 1.87s\n",
      "656:\tlearn: 0.1754276\ttotal: 3.57s\tremaining: 1.87s\n",
      "657:\tlearn: 0.1753384\ttotal: 3.58s\tremaining: 1.86s\n",
      "658:\tlearn: 0.1752817\ttotal: 3.58s\tremaining: 1.85s\n",
      "659:\tlearn: 0.1750169\ttotal: 3.59s\tremaining: 1.85s\n",
      "660:\tlearn: 0.1748509\ttotal: 3.59s\tremaining: 1.84s\n",
      "661:\tlearn: 0.1747163\ttotal: 3.6s\tremaining: 1.83s\n",
      "662:\tlearn: 0.1746604\ttotal: 3.6s\tremaining: 1.83s\n",
      "663:\tlearn: 0.1744391\ttotal: 3.6s\tremaining: 1.82s\n",
      "664:\tlearn: 0.1743642\ttotal: 3.61s\tremaining: 1.82s\n",
      "665:\tlearn: 0.1741010\ttotal: 3.61s\tremaining: 1.81s\n",
      "666:\tlearn: 0.1740090\ttotal: 3.61s\tremaining: 1.8s\n",
      "667:\tlearn: 0.1738241\ttotal: 3.62s\tremaining: 1.8s\n",
      "668:\tlearn: 0.1735957\ttotal: 3.62s\tremaining: 1.79s\n",
      "669:\tlearn: 0.1733709\ttotal: 3.63s\tremaining: 1.78s\n",
      "670:\tlearn: 0.1731660\ttotal: 3.63s\tremaining: 1.78s\n",
      "671:\tlearn: 0.1729972\ttotal: 3.63s\tremaining: 1.77s\n",
      "672:\tlearn: 0.1728395\ttotal: 3.64s\tremaining: 1.77s\n",
      "673:\tlearn: 0.1726346\ttotal: 3.64s\tremaining: 1.76s\n"
     ]
    },
    {
     "name": "stdout",
     "output_type": "stream",
     "text": [
      "674:\tlearn: 0.1726044\ttotal: 3.64s\tremaining: 1.75s\n",
      "675:\tlearn: 0.1723991\ttotal: 3.65s\tremaining: 1.75s\n",
      "676:\tlearn: 0.1723050\ttotal: 3.65s\tremaining: 1.74s\n",
      "677:\tlearn: 0.1721486\ttotal: 3.65s\tremaining: 1.74s\n",
      "678:\tlearn: 0.1719867\ttotal: 3.66s\tremaining: 1.73s\n",
      "679:\tlearn: 0.1719731\ttotal: 3.66s\tremaining: 1.72s\n",
      "680:\tlearn: 0.1718006\ttotal: 3.66s\tremaining: 1.72s\n",
      "681:\tlearn: 0.1716539\ttotal: 3.67s\tremaining: 1.71s\n",
      "682:\tlearn: 0.1715487\ttotal: 3.67s\tremaining: 1.7s\n",
      "683:\tlearn: 0.1714060\ttotal: 3.67s\tremaining: 1.7s\n",
      "684:\tlearn: 0.1712466\ttotal: 3.67s\tremaining: 1.69s\n",
      "685:\tlearn: 0.1710919\ttotal: 3.68s\tremaining: 1.68s\n",
      "686:\tlearn: 0.1709986\ttotal: 3.68s\tremaining: 1.68s\n",
      "687:\tlearn: 0.1709520\ttotal: 3.69s\tremaining: 1.67s\n",
      "688:\tlearn: 0.1708212\ttotal: 3.69s\tremaining: 1.67s\n",
      "689:\tlearn: 0.1706753\ttotal: 3.69s\tremaining: 1.66s\n",
      "690:\tlearn: 0.1705177\ttotal: 3.7s\tremaining: 1.65s\n",
      "691:\tlearn: 0.1702703\ttotal: 3.7s\tremaining: 1.65s\n",
      "692:\tlearn: 0.1701687\ttotal: 3.7s\tremaining: 1.64s\n",
      "693:\tlearn: 0.1699871\ttotal: 3.71s\tremaining: 1.63s\n",
      "694:\tlearn: 0.1699282\ttotal: 3.71s\tremaining: 1.63s\n",
      "695:\tlearn: 0.1696388\ttotal: 3.71s\tremaining: 1.62s\n",
      "696:\tlearn: 0.1694110\ttotal: 3.71s\tremaining: 1.61s\n",
      "697:\tlearn: 0.1693524\ttotal: 3.72s\tremaining: 1.61s\n",
      "698:\tlearn: 0.1692178\ttotal: 3.72s\tremaining: 1.6s\n",
      "699:\tlearn: 0.1690374\ttotal: 3.72s\tremaining: 1.6s\n",
      "700:\tlearn: 0.1689047\ttotal: 3.73s\tremaining: 1.59s\n",
      "701:\tlearn: 0.1687591\ttotal: 3.73s\tremaining: 1.58s\n",
      "702:\tlearn: 0.1685463\ttotal: 3.73s\tremaining: 1.58s\n",
      "703:\tlearn: 0.1684707\ttotal: 3.74s\tremaining: 1.57s\n",
      "704:\tlearn: 0.1683493\ttotal: 3.74s\tremaining: 1.56s\n",
      "705:\tlearn: 0.1681711\ttotal: 3.74s\tremaining: 1.56s\n",
      "706:\tlearn: 0.1680172\ttotal: 3.75s\tremaining: 1.55s\n",
      "707:\tlearn: 0.1678993\ttotal: 3.75s\tremaining: 1.55s\n",
      "708:\tlearn: 0.1678762\ttotal: 3.75s\tremaining: 1.54s\n",
      "709:\tlearn: 0.1677733\ttotal: 3.75s\tremaining: 1.53s\n",
      "710:\tlearn: 0.1674997\ttotal: 3.76s\tremaining: 1.53s\n",
      "711:\tlearn: 0.1672105\ttotal: 3.76s\tremaining: 1.52s\n",
      "712:\tlearn: 0.1671481\ttotal: 3.76s\tremaining: 1.51s\n",
      "713:\tlearn: 0.1671167\ttotal: 3.77s\tremaining: 1.51s\n",
      "714:\tlearn: 0.1670041\ttotal: 3.77s\tremaining: 1.5s\n",
      "715:\tlearn: 0.1668847\ttotal: 3.77s\tremaining: 1.5s\n",
      "716:\tlearn: 0.1667393\ttotal: 3.77s\tremaining: 1.49s\n",
      "717:\tlearn: 0.1665949\ttotal: 3.78s\tremaining: 1.48s\n",
      "718:\tlearn: 0.1665358\ttotal: 3.78s\tremaining: 1.48s\n",
      "719:\tlearn: 0.1664329\ttotal: 3.79s\tremaining: 1.47s\n",
      "720:\tlearn: 0.1661400\ttotal: 3.79s\tremaining: 1.47s\n",
      "721:\tlearn: 0.1660600\ttotal: 3.79s\tremaining: 1.46s\n",
      "722:\tlearn: 0.1659091\ttotal: 3.8s\tremaining: 1.45s\n",
      "723:\tlearn: 0.1657414\ttotal: 3.8s\tremaining: 1.45s\n",
      "724:\tlearn: 0.1656775\ttotal: 3.81s\tremaining: 1.44s\n",
      "725:\tlearn: 0.1655489\ttotal: 3.81s\tremaining: 1.44s\n",
      "726:\tlearn: 0.1654455\ttotal: 3.81s\tremaining: 1.43s\n",
      "727:\tlearn: 0.1652620\ttotal: 3.82s\tremaining: 1.43s\n",
      "728:\tlearn: 0.1651464\ttotal: 3.82s\tremaining: 1.42s\n",
      "729:\tlearn: 0.1650049\ttotal: 3.83s\tremaining: 1.41s\n",
      "730:\tlearn: 0.1649481\ttotal: 3.83s\tremaining: 1.41s\n",
      "731:\tlearn: 0.1647216\ttotal: 3.83s\tremaining: 1.4s\n",
      "732:\tlearn: 0.1646054\ttotal: 3.84s\tremaining: 1.4s\n",
      "733:\tlearn: 0.1644964\ttotal: 3.84s\tremaining: 1.39s\n",
      "734:\tlearn: 0.1643488\ttotal: 3.84s\tremaining: 1.39s\n",
      "735:\tlearn: 0.1642233\ttotal: 3.85s\tremaining: 1.38s\n",
      "736:\tlearn: 0.1641440\ttotal: 3.85s\tremaining: 1.37s\n",
      "737:\tlearn: 0.1639438\ttotal: 3.85s\tremaining: 1.37s\n",
      "738:\tlearn: 0.1638947\ttotal: 3.86s\tremaining: 1.36s\n",
      "739:\tlearn: 0.1637725\ttotal: 3.86s\tremaining: 1.36s\n",
      "740:\tlearn: 0.1636337\ttotal: 3.87s\tremaining: 1.35s\n",
      "741:\tlearn: 0.1634124\ttotal: 3.87s\tremaining: 1.34s\n",
      "742:\tlearn: 0.1633037\ttotal: 3.87s\tremaining: 1.34s\n",
      "743:\tlearn: 0.1632169\ttotal: 3.88s\tremaining: 1.33s\n",
      "744:\tlearn: 0.1630852\ttotal: 3.88s\tremaining: 1.33s\n",
      "745:\tlearn: 0.1629110\ttotal: 3.89s\tremaining: 1.32s\n",
      "746:\tlearn: 0.1627304\ttotal: 3.89s\tremaining: 1.32s\n",
      "747:\tlearn: 0.1625804\ttotal: 3.89s\tremaining: 1.31s\n",
      "748:\tlearn: 0.1624701\ttotal: 3.9s\tremaining: 1.3s\n",
      "749:\tlearn: 0.1623789\ttotal: 3.9s\tremaining: 1.3s\n",
      "750:\tlearn: 0.1623093\ttotal: 3.91s\tremaining: 1.29s\n",
      "751:\tlearn: 0.1621203\ttotal: 3.91s\tremaining: 1.29s\n",
      "752:\tlearn: 0.1620469\ttotal: 3.92s\tremaining: 1.28s\n",
      "753:\tlearn: 0.1619544\ttotal: 3.92s\tremaining: 1.28s\n",
      "754:\tlearn: 0.1616752\ttotal: 3.93s\tremaining: 1.27s\n",
      "755:\tlearn: 0.1615840\ttotal: 3.93s\tremaining: 1.27s\n",
      "756:\tlearn: 0.1614298\ttotal: 3.94s\tremaining: 1.26s\n",
      "757:\tlearn: 0.1613482\ttotal: 3.94s\tremaining: 1.26s\n",
      "758:\tlearn: 0.1611848\ttotal: 3.94s\tremaining: 1.25s\n",
      "759:\tlearn: 0.1610397\ttotal: 3.95s\tremaining: 1.25s\n",
      "760:\tlearn: 0.1609593\ttotal: 3.95s\tremaining: 1.24s\n",
      "761:\tlearn: 0.1608222\ttotal: 3.95s\tremaining: 1.24s\n",
      "762:\tlearn: 0.1606854\ttotal: 3.96s\tremaining: 1.23s\n",
      "763:\tlearn: 0.1604996\ttotal: 3.96s\tremaining: 1.22s\n",
      "764:\tlearn: 0.1603455\ttotal: 3.97s\tremaining: 1.22s\n",
      "765:\tlearn: 0.1600418\ttotal: 3.97s\tremaining: 1.21s\n",
      "766:\tlearn: 0.1598979\ttotal: 3.97s\tremaining: 1.21s\n",
      "767:\tlearn: 0.1598498\ttotal: 3.99s\tremaining: 1.21s\n",
      "768:\tlearn: 0.1597920\ttotal: 4s\tremaining: 1.2s\n",
      "769:\tlearn: 0.1595991\ttotal: 4s\tremaining: 1.19s\n",
      "770:\tlearn: 0.1595361\ttotal: 4s\tremaining: 1.19s\n",
      "771:\tlearn: 0.1594433\ttotal: 4.01s\tremaining: 1.18s\n",
      "772:\tlearn: 0.1593189\ttotal: 4.01s\tremaining: 1.18s\n",
      "773:\tlearn: 0.1593158\ttotal: 4.01s\tremaining: 1.17s\n",
      "774:\tlearn: 0.1591848\ttotal: 4.02s\tremaining: 1.17s\n",
      "775:\tlearn: 0.1588603\ttotal: 4.02s\tremaining: 1.16s\n",
      "776:\tlearn: 0.1587088\ttotal: 4.03s\tremaining: 1.16s\n",
      "777:\tlearn: 0.1586481\ttotal: 4.03s\tremaining: 1.15s\n",
      "778:\tlearn: 0.1584889\ttotal: 4.04s\tremaining: 1.15s\n",
      "779:\tlearn: 0.1584044\ttotal: 4.04s\tremaining: 1.14s\n",
      "780:\tlearn: 0.1582736\ttotal: 4.04s\tremaining: 1.13s\n",
      "781:\tlearn: 0.1580420\ttotal: 4.05s\tremaining: 1.13s\n",
      "782:\tlearn: 0.1579001\ttotal: 4.05s\tremaining: 1.12s\n",
      "783:\tlearn: 0.1578675\ttotal: 4.06s\tremaining: 1.12s\n",
      "784:\tlearn: 0.1577165\ttotal: 4.06s\tremaining: 1.11s\n",
      "785:\tlearn: 0.1576670\ttotal: 4.06s\tremaining: 1.11s\n",
      "786:\tlearn: 0.1575906\ttotal: 4.07s\tremaining: 1.1s\n",
      "787:\tlearn: 0.1574323\ttotal: 4.07s\tremaining: 1.09s\n",
      "788:\tlearn: 0.1572491\ttotal: 4.08s\tremaining: 1.09s\n",
      "789:\tlearn: 0.1570066\ttotal: 4.08s\tremaining: 1.08s\n",
      "790:\tlearn: 0.1569267\ttotal: 4.09s\tremaining: 1.08s\n",
      "791:\tlearn: 0.1568670\ttotal: 4.09s\tremaining: 1.07s\n",
      "792:\tlearn: 0.1567706\ttotal: 4.09s\tremaining: 1.07s\n",
      "793:\tlearn: 0.1566715\ttotal: 4.1s\tremaining: 1.06s\n",
      "794:\tlearn: 0.1564378\ttotal: 4.1s\tremaining: 1.06s\n",
      "795:\tlearn: 0.1563216\ttotal: 4.1s\tremaining: 1.05s\n",
      "796:\tlearn: 0.1562074\ttotal: 4.11s\tremaining: 1.05s\n",
      "797:\tlearn: 0.1561327\ttotal: 4.11s\tremaining: 1.04s\n",
      "798:\tlearn: 0.1560284\ttotal: 4.12s\tremaining: 1.03s\n",
      "799:\tlearn: 0.1558752\ttotal: 4.12s\tremaining: 1.03s\n",
      "800:\tlearn: 0.1557749\ttotal: 4.12s\tremaining: 1.02s\n",
      "801:\tlearn: 0.1556383\ttotal: 4.13s\tremaining: 1.02s\n",
      "802:\tlearn: 0.1555947\ttotal: 4.13s\tremaining: 1.01s\n",
      "803:\tlearn: 0.1554914\ttotal: 4.13s\tremaining: 1.01s\n",
      "804:\tlearn: 0.1553706\ttotal: 4.14s\tremaining: 1s\n",
      "805:\tlearn: 0.1552290\ttotal: 4.14s\tremaining: 997ms\n",
      "806:\tlearn: 0.1548950\ttotal: 4.14s\tremaining: 991ms\n",
      "807:\tlearn: 0.1548215\ttotal: 4.15s\tremaining: 986ms\n",
      "808:\tlearn: 0.1547987\ttotal: 4.15s\tremaining: 980ms\n",
      "809:\tlearn: 0.1546734\ttotal: 4.15s\tremaining: 974ms\n",
      "810:\tlearn: 0.1545278\ttotal: 4.16s\tremaining: 970ms\n",
      "811:\tlearn: 0.1542836\ttotal: 4.17s\tremaining: 964ms\n",
      "812:\tlearn: 0.1542256\ttotal: 4.17s\tremaining: 959ms\n",
      "813:\tlearn: 0.1539895\ttotal: 4.17s\tremaining: 954ms\n",
      "814:\tlearn: 0.1539605\ttotal: 4.18s\tremaining: 948ms\n",
      "815:\tlearn: 0.1538727\ttotal: 4.18s\tremaining: 943ms\n",
      "816:\tlearn: 0.1536829\ttotal: 4.18s\tremaining: 937ms\n",
      "817:\tlearn: 0.1535971\ttotal: 4.19s\tremaining: 932ms\n",
      "818:\tlearn: 0.1534866\ttotal: 4.19s\tremaining: 926ms\n",
      "819:\tlearn: 0.1533335\ttotal: 4.19s\tremaining: 921ms\n",
      "820:\tlearn: 0.1531661\ttotal: 4.2s\tremaining: 915ms\n",
      "821:\tlearn: 0.1530711\ttotal: 4.2s\tremaining: 910ms\n",
      "822:\tlearn: 0.1529414\ttotal: 4.21s\tremaining: 905ms\n",
      "823:\tlearn: 0.1527963\ttotal: 4.21s\tremaining: 899ms\n",
      "824:\tlearn: 0.1526660\ttotal: 4.21s\tremaining: 894ms\n",
      "825:\tlearn: 0.1524847\ttotal: 4.22s\tremaining: 889ms\n",
      "826:\tlearn: 0.1523556\ttotal: 4.22s\tremaining: 883ms\n",
      "827:\tlearn: 0.1523168\ttotal: 4.22s\tremaining: 878ms\n",
      "828:\tlearn: 0.1522035\ttotal: 4.23s\tremaining: 872ms\n",
      "829:\tlearn: 0.1521299\ttotal: 4.23s\tremaining: 867ms\n",
      "830:\tlearn: 0.1520408\ttotal: 4.24s\tremaining: 862ms\n",
      "831:\tlearn: 0.1519904\ttotal: 4.24s\tremaining: 856ms\n",
      "832:\tlearn: 0.1518759\ttotal: 4.24s\tremaining: 851ms\n",
      "833:\tlearn: 0.1516617\ttotal: 4.25s\tremaining: 846ms\n",
      "834:\tlearn: 0.1515082\ttotal: 4.25s\tremaining: 840ms\n",
      "835:\tlearn: 0.1512844\ttotal: 4.25s\tremaining: 835ms\n",
      "836:\tlearn: 0.1512003\ttotal: 4.26s\tremaining: 829ms\n",
      "837:\tlearn: 0.1511833\ttotal: 4.27s\tremaining: 825ms\n",
      "838:\tlearn: 0.1510533\ttotal: 4.27s\tremaining: 819ms\n",
      "839:\tlearn: 0.1508062\ttotal: 4.27s\tremaining: 814ms\n",
      "840:\tlearn: 0.1507078\ttotal: 4.27s\tremaining: 808ms\n",
      "841:\tlearn: 0.1506044\ttotal: 4.28s\tremaining: 803ms\n",
      "842:\tlearn: 0.1504826\ttotal: 4.28s\tremaining: 798ms\n",
      "843:\tlearn: 0.1504323\ttotal: 4.29s\tremaining: 792ms\n",
      "844:\tlearn: 0.1503735\ttotal: 4.29s\tremaining: 787ms\n",
      "845:\tlearn: 0.1501511\ttotal: 4.29s\tremaining: 782ms\n",
      "846:\tlearn: 0.1500196\ttotal: 4.3s\tremaining: 776ms\n",
      "847:\tlearn: 0.1498740\ttotal: 4.3s\tremaining: 771ms\n",
      "848:\tlearn: 0.1498083\ttotal: 4.3s\tremaining: 765ms\n",
      "849:\tlearn: 0.1497702\ttotal: 4.31s\tremaining: 760ms\n",
      "850:\tlearn: 0.1496379\ttotal: 4.31s\tremaining: 755ms\n",
      "851:\tlearn: 0.1495474\ttotal: 4.31s\tremaining: 749ms\n",
      "852:\tlearn: 0.1494052\ttotal: 4.32s\tremaining: 744ms\n",
      "853:\tlearn: 0.1492846\ttotal: 4.32s\tremaining: 738ms\n",
      "854:\tlearn: 0.1492628\ttotal: 4.32s\tremaining: 733ms\n",
      "855:\tlearn: 0.1491845\ttotal: 4.33s\tremaining: 728ms\n"
     ]
    },
    {
     "name": "stdout",
     "output_type": "stream",
     "text": [
      "856:\tlearn: 0.1490849\ttotal: 4.33s\tremaining: 722ms\n",
      "857:\tlearn: 0.1490077\ttotal: 4.33s\tremaining: 717ms\n",
      "858:\tlearn: 0.1488147\ttotal: 4.33s\tremaining: 712ms\n",
      "859:\tlearn: 0.1486202\ttotal: 4.34s\tremaining: 706ms\n",
      "860:\tlearn: 0.1484542\ttotal: 4.34s\tremaining: 701ms\n",
      "861:\tlearn: 0.1484113\ttotal: 4.34s\tremaining: 695ms\n",
      "862:\tlearn: 0.1482351\ttotal: 4.35s\tremaining: 690ms\n",
      "863:\tlearn: 0.1481270\ttotal: 4.35s\tremaining: 685ms\n",
      "864:\tlearn: 0.1480708\ttotal: 4.35s\tremaining: 679ms\n",
      "865:\tlearn: 0.1478256\ttotal: 4.36s\tremaining: 674ms\n",
      "866:\tlearn: 0.1475758\ttotal: 4.36s\tremaining: 669ms\n",
      "867:\tlearn: 0.1473832\ttotal: 4.36s\tremaining: 664ms\n",
      "868:\tlearn: 0.1470736\ttotal: 4.37s\tremaining: 658ms\n",
      "869:\tlearn: 0.1468116\ttotal: 4.37s\tremaining: 653ms\n",
      "870:\tlearn: 0.1467374\ttotal: 4.37s\tremaining: 648ms\n",
      "871:\tlearn: 0.1466705\ttotal: 4.38s\tremaining: 642ms\n",
      "872:\tlearn: 0.1466087\ttotal: 4.38s\tremaining: 637ms\n",
      "873:\tlearn: 0.1465131\ttotal: 4.38s\tremaining: 632ms\n",
      "874:\tlearn: 0.1464561\ttotal: 4.38s\tremaining: 626ms\n",
      "875:\tlearn: 0.1463621\ttotal: 4.39s\tremaining: 621ms\n",
      "876:\tlearn: 0.1461410\ttotal: 4.39s\tremaining: 616ms\n",
      "877:\tlearn: 0.1459685\ttotal: 4.39s\tremaining: 610ms\n",
      "878:\tlearn: 0.1458038\ttotal: 4.4s\tremaining: 606ms\n",
      "879:\tlearn: 0.1457650\ttotal: 4.41s\tremaining: 601ms\n",
      "880:\tlearn: 0.1455368\ttotal: 4.41s\tremaining: 595ms\n",
      "881:\tlearn: 0.1454987\ttotal: 4.41s\tremaining: 590ms\n",
      "882:\tlearn: 0.1452739\ttotal: 4.41s\tremaining: 585ms\n",
      "883:\tlearn: 0.1451589\ttotal: 4.42s\tremaining: 580ms\n",
      "884:\tlearn: 0.1451082\ttotal: 4.42s\tremaining: 574ms\n",
      "885:\tlearn: 0.1449926\ttotal: 4.42s\tremaining: 569ms\n",
      "886:\tlearn: 0.1449037\ttotal: 4.42s\tremaining: 564ms\n",
      "887:\tlearn: 0.1447100\ttotal: 4.43s\tremaining: 559ms\n",
      "888:\tlearn: 0.1446244\ttotal: 4.43s\tremaining: 553ms\n",
      "889:\tlearn: 0.1443977\ttotal: 4.43s\tremaining: 548ms\n",
      "890:\tlearn: 0.1441928\ttotal: 4.44s\tremaining: 543ms\n",
      "891:\tlearn: 0.1440076\ttotal: 4.44s\tremaining: 538ms\n",
      "892:\tlearn: 0.1439072\ttotal: 4.44s\tremaining: 532ms\n",
      "893:\tlearn: 0.1437798\ttotal: 4.45s\tremaining: 527ms\n",
      "894:\tlearn: 0.1436984\ttotal: 4.45s\tremaining: 522ms\n",
      "895:\tlearn: 0.1435723\ttotal: 4.45s\tremaining: 517ms\n",
      "896:\tlearn: 0.1434942\ttotal: 4.46s\tremaining: 512ms\n",
      "897:\tlearn: 0.1433521\ttotal: 4.46s\tremaining: 507ms\n",
      "898:\tlearn: 0.1433064\ttotal: 4.46s\tremaining: 502ms\n",
      "899:\tlearn: 0.1432334\ttotal: 4.47s\tremaining: 496ms\n",
      "900:\tlearn: 0.1430952\ttotal: 4.47s\tremaining: 491ms\n",
      "901:\tlearn: 0.1430552\ttotal: 4.47s\tremaining: 486ms\n",
      "902:\tlearn: 0.1429863\ttotal: 4.48s\tremaining: 481ms\n",
      "903:\tlearn: 0.1428931\ttotal: 4.48s\tremaining: 476ms\n",
      "904:\tlearn: 0.1428485\ttotal: 4.48s\tremaining: 471ms\n",
      "905:\tlearn: 0.1427864\ttotal: 4.49s\tremaining: 466ms\n",
      "906:\tlearn: 0.1426902\ttotal: 4.49s\tremaining: 460ms\n",
      "907:\tlearn: 0.1425820\ttotal: 4.49s\tremaining: 455ms\n",
      "908:\tlearn: 0.1423321\ttotal: 4.5s\tremaining: 450ms\n",
      "909:\tlearn: 0.1423007\ttotal: 4.5s\tremaining: 445ms\n",
      "910:\tlearn: 0.1422694\ttotal: 4.5s\tremaining: 440ms\n",
      "911:\tlearn: 0.1422132\ttotal: 4.51s\tremaining: 435ms\n",
      "912:\tlearn: 0.1421588\ttotal: 4.51s\tremaining: 430ms\n",
      "913:\tlearn: 0.1420211\ttotal: 4.51s\tremaining: 425ms\n",
      "914:\tlearn: 0.1419869\ttotal: 4.52s\tremaining: 420ms\n",
      "915:\tlearn: 0.1419582\ttotal: 4.52s\tremaining: 415ms\n",
      "916:\tlearn: 0.1418945\ttotal: 4.53s\tremaining: 410ms\n",
      "917:\tlearn: 0.1418352\ttotal: 4.53s\tremaining: 405ms\n",
      "918:\tlearn: 0.1417332\ttotal: 4.53s\tremaining: 400ms\n",
      "919:\tlearn: 0.1417107\ttotal: 4.54s\tremaining: 394ms\n",
      "920:\tlearn: 0.1414910\ttotal: 4.54s\tremaining: 389ms\n",
      "921:\tlearn: 0.1414074\ttotal: 4.54s\tremaining: 384ms\n",
      "922:\tlearn: 0.1412378\ttotal: 4.55s\tremaining: 379ms\n",
      "923:\tlearn: 0.1412109\ttotal: 4.55s\tremaining: 374ms\n",
      "924:\tlearn: 0.1411009\ttotal: 4.55s\tremaining: 369ms\n",
      "925:\tlearn: 0.1410348\ttotal: 4.56s\tremaining: 364ms\n",
      "926:\tlearn: 0.1409707\ttotal: 4.56s\tremaining: 359ms\n",
      "927:\tlearn: 0.1409059\ttotal: 4.57s\tremaining: 354ms\n",
      "928:\tlearn: 0.1407854\ttotal: 4.57s\tremaining: 349ms\n",
      "929:\tlearn: 0.1406476\ttotal: 4.57s\tremaining: 344ms\n",
      "930:\tlearn: 0.1406152\ttotal: 4.58s\tremaining: 339ms\n",
      "931:\tlearn: 0.1405463\ttotal: 4.58s\tremaining: 334ms\n",
      "932:\tlearn: 0.1405194\ttotal: 4.59s\tremaining: 329ms\n",
      "933:\tlearn: 0.1404240\ttotal: 4.59s\tremaining: 324ms\n",
      "934:\tlearn: 0.1402886\ttotal: 4.59s\tremaining: 319ms\n",
      "935:\tlearn: 0.1401697\ttotal: 4.6s\tremaining: 314ms\n",
      "936:\tlearn: 0.1401059\ttotal: 4.6s\tremaining: 309ms\n",
      "937:\tlearn: 0.1400848\ttotal: 4.6s\tremaining: 304ms\n",
      "938:\tlearn: 0.1400196\ttotal: 4.61s\tremaining: 299ms\n",
      "939:\tlearn: 0.1399288\ttotal: 4.61s\tremaining: 294ms\n",
      "940:\tlearn: 0.1398020\ttotal: 4.61s\tremaining: 289ms\n",
      "941:\tlearn: 0.1397390\ttotal: 4.62s\tremaining: 284ms\n",
      "942:\tlearn: 0.1397189\ttotal: 4.62s\tremaining: 279ms\n",
      "943:\tlearn: 0.1396894\ttotal: 4.62s\tremaining: 274ms\n",
      "944:\tlearn: 0.1396038\ttotal: 4.63s\tremaining: 269ms\n",
      "945:\tlearn: 0.1394632\ttotal: 4.63s\tremaining: 264ms\n",
      "946:\tlearn: 0.1394120\ttotal: 4.63s\tremaining: 259ms\n",
      "947:\tlearn: 0.1393509\ttotal: 4.64s\tremaining: 254ms\n",
      "948:\tlearn: 0.1392694\ttotal: 4.64s\tremaining: 249ms\n",
      "949:\tlearn: 0.1392249\ttotal: 4.65s\tremaining: 245ms\n",
      "950:\tlearn: 0.1391822\ttotal: 4.65s\tremaining: 240ms\n",
      "951:\tlearn: 0.1389869\ttotal: 4.65s\tremaining: 235ms\n",
      "952:\tlearn: 0.1388874\ttotal: 4.66s\tremaining: 230ms\n",
      "953:\tlearn: 0.1387334\ttotal: 4.66s\tremaining: 225ms\n",
      "954:\tlearn: 0.1386685\ttotal: 4.67s\tremaining: 220ms\n",
      "955:\tlearn: 0.1385349\ttotal: 4.67s\tremaining: 215ms\n",
      "956:\tlearn: 0.1385265\ttotal: 4.67s\tremaining: 210ms\n",
      "957:\tlearn: 0.1384821\ttotal: 4.68s\tremaining: 205ms\n",
      "958:\tlearn: 0.1384654\ttotal: 4.68s\tremaining: 200ms\n",
      "959:\tlearn: 0.1382639\ttotal: 4.68s\tremaining: 195ms\n",
      "960:\tlearn: 0.1381923\ttotal: 4.69s\tremaining: 190ms\n",
      "961:\tlearn: 0.1380796\ttotal: 4.69s\tremaining: 185ms\n",
      "962:\tlearn: 0.1379241\ttotal: 4.7s\tremaining: 180ms\n",
      "963:\tlearn: 0.1377384\ttotal: 4.7s\tremaining: 175ms\n",
      "964:\tlearn: 0.1376291\ttotal: 4.7s\tremaining: 171ms\n",
      "965:\tlearn: 0.1375189\ttotal: 4.71s\tremaining: 166ms\n",
      "966:\tlearn: 0.1374802\ttotal: 4.71s\tremaining: 161ms\n",
      "967:\tlearn: 0.1374166\ttotal: 4.71s\tremaining: 156ms\n",
      "968:\tlearn: 0.1373643\ttotal: 4.72s\tremaining: 151ms\n",
      "969:\tlearn: 0.1373158\ttotal: 4.72s\tremaining: 146ms\n",
      "970:\tlearn: 0.1371210\ttotal: 4.73s\tremaining: 141ms\n",
      "971:\tlearn: 0.1369885\ttotal: 4.73s\tremaining: 136ms\n",
      "972:\tlearn: 0.1369423\ttotal: 4.73s\tremaining: 131ms\n",
      "973:\tlearn: 0.1368920\ttotal: 4.74s\tremaining: 126ms\n",
      "974:\tlearn: 0.1366753\ttotal: 4.74s\tremaining: 122ms\n",
      "975:\tlearn: 0.1365470\ttotal: 4.74s\tremaining: 117ms\n",
      "976:\tlearn: 0.1363746\ttotal: 4.75s\tremaining: 112ms\n",
      "977:\tlearn: 0.1361517\ttotal: 4.75s\tremaining: 107ms\n",
      "978:\tlearn: 0.1361168\ttotal: 4.76s\tremaining: 102ms\n",
      "979:\tlearn: 0.1360789\ttotal: 4.76s\tremaining: 97.1ms\n",
      "980:\tlearn: 0.1359914\ttotal: 4.76s\tremaining: 92.3ms\n",
      "981:\tlearn: 0.1359441\ttotal: 4.77s\tremaining: 87.4ms\n",
      "982:\tlearn: 0.1358130\ttotal: 4.77s\tremaining: 82.5ms\n",
      "983:\tlearn: 0.1357726\ttotal: 4.77s\tremaining: 77.6ms\n",
      "984:\tlearn: 0.1356895\ttotal: 4.77s\tremaining: 72.7ms\n",
      "985:\tlearn: 0.1356171\ttotal: 4.78s\tremaining: 67.9ms\n",
      "986:\tlearn: 0.1355850\ttotal: 4.78s\tremaining: 63ms\n",
      "987:\tlearn: 0.1355072\ttotal: 4.79s\tremaining: 58.1ms\n",
      "988:\tlearn: 0.1353682\ttotal: 4.79s\tremaining: 53.3ms\n",
      "989:\tlearn: 0.1353115\ttotal: 4.79s\tremaining: 48.4ms\n",
      "990:\tlearn: 0.1350624\ttotal: 4.8s\tremaining: 43.6ms\n",
      "991:\tlearn: 0.1349732\ttotal: 4.8s\tremaining: 38.7ms\n",
      "992:\tlearn: 0.1348843\ttotal: 4.8s\tremaining: 33.9ms\n",
      "993:\tlearn: 0.1347789\ttotal: 4.81s\tremaining: 29ms\n",
      "994:\tlearn: 0.1346952\ttotal: 4.81s\tremaining: 24.2ms\n",
      "995:\tlearn: 0.1345828\ttotal: 4.81s\tremaining: 19.3ms\n",
      "996:\tlearn: 0.1344772\ttotal: 4.82s\tremaining: 14.5ms\n",
      "997:\tlearn: 0.1343901\ttotal: 4.82s\tremaining: 9.66ms\n",
      "998:\tlearn: 0.1342704\ttotal: 4.82s\tremaining: 4.83ms\n",
      "999:\tlearn: 0.1341323\ttotal: 4.83s\tremaining: 0us\n"
     ]
    }
   ],
   "source": [
    "from catboost import CatBoostClassifier\n",
    "cbc =  CatBoostClassifier()\n",
    "cbc.fit(X_train, Y_train)\n",
    "\n",
    "cbc_predict =  cbc.predict(X_test)"
   ]
  },
  {
   "cell_type": "code",
   "execution_count": 227,
   "metadata": {},
   "outputs": [
    {
     "name": "stdout",
     "output_type": "stream",
     "text": [
      "              precision    recall  f1-score   support\n",
      "\n",
      "           0       0.92      0.90      0.91       126\n",
      "           1       0.89      0.90      0.90       104\n",
      "\n",
      "    accuracy                           0.90       230\n",
      "   macro avg       0.90      0.90      0.90       230\n",
      "weighted avg       0.90      0.90      0.90       230\n",
      "\n"
     ]
    }
   ],
   "source": [
    "print(classification_report(Y_test, cbc_predict))"
   ]
  },
  {
   "cell_type": "code",
   "execution_count": 228,
   "metadata": {},
   "outputs": [
    {
     "data": {
      "image/png": "[encoded data removed]",
      "text/plain": [
       "<Figure size 432x288 with 2 Axes>"
      ]
     },
     "metadata": {
      "needs_background": "light"
     },
     "output_type": "display_data"
    }
   ],
   "source": [
    "plot_confusion_matrix(cbc, X_test, Y_test, display_labels=['Heart Disease', 'Normal'])\n",
    "plt.title('Confusion Matrix of CatBoost Classifier')\n",
    "plt.show()"
   ]
  },
  {
   "cell_type": "code",
   "execution_count": 229,
   "metadata": {},
   "outputs": [
    {
     "data": {
      "image/png": "[encoded data removed]",
      "text/plain": [
       "<Figure size 432x288 with 1 Axes>"
      ]
     },
     "metadata": {
      "needs_background": "light"
     },
     "output_type": "display_data"
    }
   ],
   "source": [
    "plot_precision_recall_curve(cbc, X_test, Y_test)\n",
    "plt.title('Precision Recall Curve of CatBoost Classifier')\n",
    "plt.show()"
   ]
  },
  {
   "cell_type": "code",
   "execution_count": 230,
   "metadata": {},
   "outputs": [
    {
     "data": {
      "image/png": "[encoded data removed]",
      "text/plain": [
       "<Figure size 1008x432 with 1 Axes>"
      ]
     },
     "metadata": {
      "needs_background": "light"
     },
     "output_type": "display_data"
    }
   ],
   "source": [
    "# This code snippet is copied from: https://www.rasgoml.com/feature-engineering-tutorials/how-to-generate-feature-importance-plots-using-catboost\n",
    "\n",
    "feature_importance = cbc.feature_importances_\n",
    "sorted_idx = np.argsort(feature_importance)\n",
    "fig = plt.figure(figsize=(14, 6))\n",
    "plt.barh(range(len(sorted_idx)), feature_importance[sorted_idx], align='center', )\n",
    "plt.yticks(range(len(sorted_idx)), np.array(X_test.columns)[sorted_idx])\n",
    "plt.title('Feature Importance of Catboost Classifier')\n",
    "plt.xlabel('Feature Importance')\n",
    "plt.show()"
   ]
  },
  {
   "cell_type": "markdown",
   "metadata": {},
   "source": [
    "### Radnom Forest Classifier"
   ]
  },
  {
   "cell_type": "code",
   "execution_count": 231,
   "metadata": {},
   "outputs": [
    {
     "name": "stderr",
     "output_type": "stream",
     "text": [
      "C:\\Users\\lenovo\\AppData\\Local\\Temp/ipykernel_16848/872049217.py:3: DataConversionWarning: A column-vector y was passed when a 1d array was expected. Please change the shape of y to (n_samples,), for example using ravel().\n",
      "  rfc.fit(X_train, Y_train)\n"
     ]
    }
   ],
   "source": [
    "from sklearn.ensemble import RandomForestClassifier\n",
    "rfc = RandomForestClassifier()\n",
    "rfc.fit(X_train, Y_train)\n",
    "rfc_predict = rfc.predict(X_test)\n"
   ]
  },
  {
   "cell_type": "code",
   "execution_count": 232,
   "metadata": {},
   "outputs": [
    {
     "name": "stdout",
     "output_type": "stream",
     "text": [
      "              precision    recall  f1-score   support\n",
      "\n",
      "           0       0.91      0.92      0.92       126\n",
      "           1       0.90      0.89      0.90       104\n",
      "\n",
      "    accuracy                           0.91       230\n",
      "   macro avg       0.91      0.91      0.91       230\n",
      "weighted avg       0.91      0.91      0.91       230\n",
      "\n"
     ]
    }
   ],
   "source": [
    "print(classification_report(Y_test, rfc_predict))"
   ]
  },
  {
   "cell_type": "code",
   "execution_count": 233,
   "metadata": {},
   "outputs": [
    {
     "data": {
      "image/png": "[encoded data removed]",
      "text/plain": [
       "<Figure size 432x288 with 2 Axes>"
      ]
     },
     "metadata": {
      "needs_background": "light"
     },
     "output_type": "display_data"
    }
   ],
   "source": [
    "plot_confusion_matrix(rfc, X_test, Y_test, display_labels=['Heart Disease', 'Normal'])\n",
    "plt.title('Confusion Matrix of Random Forest Model')\n",
    "plt.show()"
   ]
  },
  {
   "cell_type": "code",
   "execution_count": 234,
   "metadata": {},
   "outputs": [
    {
     "data": {
      "image/png": "[encoded data removed]",
      "text/plain": [
       "<Figure size 432x288 with 1 Axes>"
      ]
     },
     "metadata": {
      "needs_background": "light"
     },
     "output_type": "display_data"
    }
   ],
   "source": [
    "plot_precision_recall_curve(rfc, X_test, Y_test)\n",
    "plt.title('Precision Recall Curve of Random Forest Model')\n",
    "plt.show()"
   ]
  },
  {
   "cell_type": "code",
   "execution_count": 235,
   "metadata": {},
   "outputs": [
    {
     "data": {
      "image/png": "[encoded data removed]",
      "text/plain": [
       "<Figure size 1008x432 with 1 Axes>"
      ]
     },
     "metadata": {
      "needs_background": "light"
     },
     "output_type": "display_data"
    }
   ],
   "source": [
    "feature_importance = rfc.feature_importances_\n",
    "sorted_idx = np.argsort(feature_importance)\n",
    "fig = plt.figure(figsize=(14, 6))\n",
    "plt.barh(range(len(sorted_idx)), feature_importance[sorted_idx], align='center')\n",
    "plt.yticks(range(len(sorted_idx)), np.array(X_test.columns)[sorted_idx])\n",
    "plt.title('Feature Importance of Random Forest Classifier')\n",
    "plt.xlabel('Feature Importance')\n",
    "plt.show()"
   ]
  },
  {
   "cell_type": "markdown",
   "metadata": {},
   "source": [
    "### Xgboost Classifier"
   ]
  },
  {
   "cell_type": "code",
   "execution_count": 236,
   "metadata": {},
   "outputs": [],
   "source": [
    "import xgboost\n",
    "xgb = xgboost.XGBClassifier()\n",
    "xgb.fit(X_train, Y_train)\n",
    "\n",
    "xgb_predict = xgb.predict(X_test)"
   ]
  },
  {
   "cell_type": "code",
   "execution_count": 237,
   "metadata": {},
   "outputs": [
    {
     "name": "stdout",
     "output_type": "stream",
     "text": [
      "              precision    recall  f1-score   support\n",
      "\n",
      "           0       0.90      0.88      0.89       126\n",
      "           1       0.86      0.88      0.87       104\n",
      "\n",
      "    accuracy                           0.88       230\n",
      "   macro avg       0.88      0.88      0.88       230\n",
      "weighted avg       0.88      0.88      0.88       230\n",
      "\n"
     ]
    }
   ],
   "source": [
    "print(classification_report(Y_test, xgb_predict))"
   ]
  },
  {
   "cell_type": "code",
   "execution_count": 238,
   "metadata": {},
   "outputs": [
    {
     "data": {
      "image/png": "[encoded data removed]",
      "text/plain": [
       "<Figure size 432x288 with 2 Axes>"
      ]
     },
     "metadata": {
      "needs_background": "light"
     },
     "output_type": "display_data"
    }
   ],
   "source": [
    "plot_confusion_matrix(xgb, X_test, Y_test, display_labels=['Heart Disease', 'Normal'])\n",
    "plt.title('Confusion Matrix of Xgboost Model')\n",
    "plt.show()"
   ]
  },
  {
   "cell_type": "code",
   "execution_count": 239,
   "metadata": {},
   "outputs": [
    {
     "data": {
      "image/png": "[encoded data removed]",
      "text/plain": [
       "<Figure size 1008x432 with 1 Axes>"
      ]
     },
     "metadata": {
      "needs_background": "light"
     },
     "output_type": "display_data"
    }
   ],
   "source": [
    "feature_importance = xgb.feature_importances_\n",
    "sorted_idx = np.argsort(feature_importance)\n",
    "fig = plt.figure(figsize=(14, 6))\n",
    "plt.barh(range(len(sorted_idx)), feature_importance[sorted_idx], align='center')\n",
    "plt.yticks(range(len(sorted_idx)), np.array(X_test.columns)[sorted_idx])\n",
    "plt.title('Feature Importance of Xgboost Classifier')\n",
    "plt.xlabel('Feature Importance')\n",
    "plt.show()"
   ]
  },
  {
   "cell_type": "code",
   "execution_count": null,
   "metadata": {},
   "outputs": [],
   "source": []
  }
 ],
 "metadata": {
  "kernelspec": {
   "display_name": "Python 3 (ipykernel)",
   "language": "python",
   "name": "python3"
  },
  "language_info": {
   "codemirror_mode": {
    "name": "ipython",
    "version": 3
   },
   "file_extension": ".py",
   "mimetype": "text/x-python",
   "name": "python",
   "nbconvert_exporter": "python",
   "pygments_lexer": "ipython3",
   "version": "3.9.7"
  }
 },
 "nbformat": 4,
 "nbformat_minor": 4
}
